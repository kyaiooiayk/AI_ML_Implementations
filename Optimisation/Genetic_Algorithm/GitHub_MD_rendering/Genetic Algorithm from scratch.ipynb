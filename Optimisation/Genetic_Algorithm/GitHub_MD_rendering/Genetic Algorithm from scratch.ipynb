{
 "cells": [
  {
   "cell_type": "markdown",
   "metadata": {},
   "source": [
    "# Introduction"
   ]
  },
  {
   "cell_type": "markdown",
   "metadata": {},
   "source": [
    "\n",
    "**What?** Genetic Algorithm from scratch\n",
    "\n",
""   ]
  },
  {
   "cell_type": "markdown",
   "metadata": {},
   "source": [
    "# Import modules"
   ]
  },
  {
   "cell_type": "code",
   "execution_count": 3,
   "metadata": {},
   "outputs": [],
   "source": [
    "import os\n",
    "import numpy as np\n",
    "import pandas as pd\n",
    "import matplotlib.pyplot as plt\n",
    "import random\n",
    "import numpy as np\n",
    "from collections import namedtuple"
   ]
  },
  {
   "cell_type": "markdown",
   "metadata": {},
   "source": [
    "# Genetic Algorithm"
   ]
  },
  {
   "cell_type": "markdown",
   "metadata": {},
   "source": [
    "\n",
    "- GA algorithms are a class of methods that try to mimic the way genes are passed down to future generation.\n",
    "- A bunch of \"answer candidates\" and there is a feedback to figure out how close the candidate is to the \"optimal\" solution. \n",
    "- Far-from-optimal candidates gets dropped and are never seen again, while close-to-optimal candidates are combined with each other and maybe mutate slightly to see if they can get closer to optimal. \n",
    "- The mutation is an attempt to prevent the solution from getting stuck at the local optima. \n",
    "- **Chromosomes** is the representation of a solution candidate. They mate and mutate to produce offspring. They either die due to survival of the fittest, (natural selection).\n",
    "- The collection of chromosomes is referred to as our population.\n",
    "\n",
""   ]
  },
  {
   "cell_type": "markdown",
   "metadata": {},
   "source": [
    "# Example"
   ]
  },
  {
   "cell_type": "markdown",
   "metadata": {},
   "source": [
    "\n",
    "- Here is our problem: find a list of `N` integer numbers that equal `X` when summed together. \n",
    "- If we set `N = 5` and `X = 200` we then have:\n",
    "\n",
""   ]
  },
  {
   "cell_type": "code",
   "execution_count": 4,
   "metadata": {},
   "outputs": [
    {
     "data": {
      "text/plain": [
       "array([58, 89,  4, 30, 27])"
      ]
     },
     "execution_count": 4,
     "metadata": {},
     "output_type": "execute_result"
    }
   ],
   "source": [
    "chromo_size = 5\n",
    "# We want our solution to be bounded between 0 to 100 (inclusive)\n",
    "low  = 0 \n",
    "high = 100\n",
    "\n",
    "# This is an examlep of a chromosomes\n",
    "np.random.randint(low, high + 1, chromo_size)"
   ]
  },
  {
   "cell_type": "code",
   "execution_count": 5,
   "metadata": {},
   "outputs": [
    {
     "data": {
      "text/plain": [
       "array([[33,  8, 73,  4, 88],\n",
       "       [88, 33, 64, 19, 22],\n",
       "       [ 5, 13,  7, 30, 89],\n",
       "       [30, 63, 75, 65, 63],\n",
       "       [41, 67, 61, 80, 65],\n",
       "       [14, 24, 55, 87,  2]])"
      ]
     },
     "execution_count": 5,
     "metadata": {},
     "output_type": "execute_result"
    }
   ],
   "source": [
    "pop_size = 6\n",
    "\n",
    "# This is an example of population\n",
    "pop = np.random.randint(low, high + 1, (pop_size, chromo_size))\n",
    "pop"
   ]
  },
  {
   "cell_type": "markdown",
   "metadata": {},
   "source": [
    "# Cost Function"
   ]
  },
  {
   "cell_type": "markdown",
   "metadata": {},
   "source": [
    "\n",
    "- In this case, we might define a cost function to be the absolute difference between the sum of the and the target number X. The reason we're using the square of the difference is so that we never end up with a negative cost, you can choose to square it if you want to.\n",
    "- That is a bit different than the case where we need the gradient. In that case the square is used not to have a derivative equal zero.\n",
    "\n",
""   ]
  },
  {
   "cell_type": "code",
   "execution_count": 6,
   "metadata": {},
   "outputs": [
    {
     "name": "stdout",
     "output_type": "stream",
     "text": [
      "chromo [33, 8, 73, 4, 88]'s cost is 6\n",
      "chromo [88, 33, 64, 19, 22]'s cost is 26\n",
      "chromo [5, 13, 7, 30, 89]'s cost is 56\n",
      "chromo [30, 63, 75, 65, 63]'s cost is 96\n",
      "chromo [41, 67, 61, 80, 65]'s cost is 114\n",
      "chromo [14, 24, 55, 87, 2]'s cost is 18\n"
     ]
    }
   ],
   "source": [
    "# determine the cost of a chromosome. lower is better\n",
    "target = 200\n",
    "cost = np.abs(np.sum(pop, axis = 1) - target)\n",
    "\n",
    "# combine the cost and chromosome into one list\n",
    "graded = [(c, list(p)) for p, c in zip(pop, cost)]\n",
    "for cost, chromo in graded:\n",
    "    print(\"chromo {}'s cost is {}\".format(chromo, cost))"
   ]
  },
  {
   "cell_type": "markdown",
   "metadata": {},
   "source": [
    "# Evolution - Crossover + Mutation"
   ]
  },
  {
   "cell_type": "markdown",
   "metadata": {},
   "source": [
    "\n",
    "- Just like in evolution, you might be inclined to have the best and strongest chromosomes of the population mate with each other (The technical term for mating is **crossover**), with the hope that their offspring will be even healthier than either parent.\n",
    "- Crossover is the main step of how you get from one generation of chromosomes to the next, but it alone has a problem: If all you do is mate your candidates to go from generation to generation, you'll have a chance of getting stuck near a \"local optimum. Crossover helps discover more optimal solutions from already-good solutions, but it's the **mutation** that pushes the search for solutions in new directions. Mutation is a completely random process. \n",
    "\n",
""   ]
  },
  {
   "cell_type": "markdown",
   "metadata": {},
   "source": [
    "# Implementing a GA algorithm"
   ]
  },
  {
   "cell_type": "markdown",
   "metadata": {},
   "source": [
    "\n",
    "1. Randomly initialise a population\n",
    "2. Calculate the cost/fitness score for each chromosomes.\n",
    "3. Sort the chromosomes by the user-defined cost/fitness score.\n",
    "4. Retain a certain number of the parent chromosomes\n",
    "5. Mate the retained parent chromosomes to generate the children chromosomes.\n",
    "6. Mutate the children chromosomes at random.\n",
    "7. Compare the parent chromosomes and the children chromosomes and choose the best ones \n",
    "8. If the algorithm has not met some kind of completion criteria, return to step 2 with the new chromosomes. \n",
    "\n",
""   ]
  },
  {
   "cell_type": "markdown",
   "metadata": {},
   "source": [
    "## Creating a GA class"
   ]
  },
  {
   "cell_type": "code",
   "execution_count": 9,
   "metadata": {},
   "outputs": [],
   "source": [
    "class GA:\n",
    "    \"\"\"Genetic Algorithm \n",
    "    Parameters\n",
    "    ----------\n",
    "    generation : int\n",
    "        number of iteration to train the algorithm\n",
    "    pop_size : int\n",
    "        number of chromosomes in the population\n",
    "    chromo_size : int\n",
    "        number of possible values (genes) per chromosome\n",
    "    low, high : int\n",
    "        lower_bound and upper_bound possible value of the randomly generated chromosome\n",
    "    retain_rate : float 0 ~ 1\n",
    "        the fraction of the best chromosome to retain. used to mate\n",
    "        the children for the next generation\n",
    "    mutate_rate : float 0 ~ 1\n",
    "        the probability that each chromosome will mutate\n",
    "    \"\"\"\n",
    "    \n",
    "    def __init__( self, generation, pop_size, chromo_size, low, high, \n",
    "                  retain_rate, mutate_rate ):\n",
    "        self.low  = low\n",
    "        self.high = high\n",
    "        self.pop_size = pop_size\n",
    "        self.chromo_size = chromo_size\n",
    "        self.generation  = generation\n",
    "        self.retain_len  = int(pop_size * retain_rate)\n",
    "        self.mutate_rate = mutate_rate\n",
    "        self.info = namedtuple( 'info', ['cost', 'chromo'] )\n",
    "\n",
    "    def fit(self, target):\n",
    "        \"\"\"\n",
    "        target : int\n",
    "            the targeted solution\n",
    "        \"\"\"\n",
    "\n",
    "        # randomly generate the initial population, and evaluate its cost\n",
    "        array_size = self.pop_size, self.chromo_size\n",
    "        pop = np.random.randint(self.low, self.high + 1, array_size)\n",
    "        graded_pop = self._compute_cost( pop, target )\n",
    "\n",
    "        # store the best chromosome and its cost for each generation,\n",
    "        # so we can get an idea of when the algorithm converged\n",
    "        self.generation_history = []\n",
    "        for _ in range(self.generation):\n",
    "            graded_pop, generation_best = self._evolve(graded_pop, target)\n",
    "            self.generation_history.append(generation_best)\n",
    "\n",
    "        self.best = self.generation_history[self.generation - 1]\n",
    "        self.is_fitted = True\n",
    "        return self\n",
    "\n",
    "    def _compute_cost(self, pop, target):\n",
    "        \"\"\"\n",
    "        combine the cost and chromosome into one list and sort them\n",
    "        in ascending order\n",
    "        \"\"\"\n",
    "        cost = np.abs( np.sum(pop, axis = 1) - target )\n",
    "        graded = [ self.info( c, list(p) ) for p, c in zip(pop, cost) ]\n",
    "        graded = sorted(graded)\n",
    "        return graded\n",
    "\n",
    "    def _evolve(self, graded_pop, target):\n",
    "        \"\"\"\n",
    "        core method that does the crossover, mutation to generate\n",
    "        the possibly best children for the next generation\n",
    "        \"\"\"\n",
    "\n",
    "        # retain the best chromos (number determined by the retain_len)\n",
    "        graded_pop = graded_pop[:self.retain_len]\n",
    "        parent = [ p.chromo for p in graded_pop ]\n",
    "\n",
    "        # generate the children for the next generation \n",
    "        children = []\n",
    "        while len(children) < self.pop_size:\n",
    "            child = self._crossover(parent)\n",
    "            child = self._mutate(child)\n",
    "            children.append(child)\n",
    "\n",
    "        # evaluate the children chromosome and retain the overall best,\n",
    "        # overall simply means the best from the parent and the children, where\n",
    "        # the size retained is determined by the population size\n",
    "        graded_children = self._compute_cost(children, target)\n",
    "        graded_pop.extend(graded_children)\n",
    "        graded_pop = sorted(graded_pop)\n",
    "        graded_pop = graded_pop[:self.pop_size]\n",
    "\n",
    "        # also return the current generation's best chromosome and its cost\n",
    "        generation_best = graded_pop[0]\n",
    "        return graded_pop, generation_best \n",
    "\n",
    "    def _crossover(self, parent):\n",
    "        \"\"\"\n",
    "        mate the children by randomly choosing two parents and mix \n",
    "        the first half element of one parent with the later half \n",
    "        element of the other\n",
    "        \"\"\"\n",
    "        index1, index2 = random.sample( range(self.retain_len), k = 2 )\n",
    "        male, female = parent[index1], parent[index2]\n",
    "        pivot = len(male) // 2\n",
    "        child = male[:pivot] + female[pivot:]\n",
    "        return child\n",
    "\n",
    "\n",
    "    def _mutate(self, child):\n",
    "        \"\"\"\n",
    "        randomly change one element of the chromosome if it\n",
    "        exceeds the user-specified threshold (mutate_rate)\n",
    "        \"\"\"\n",
    "        if self.mutate_rate > random.random():\n",
    "            idx_to_mutate = random.randrange(self.chromo_size)\n",
    "            child[idx_to_mutate] = random.randint(self.low, self.high)\n",
    "\n",
    "        return child"
   ]
  },
  {
   "cell_type": "code",
   "execution_count": 10,
   "metadata": {},
   "outputs": [
    {
     "data": {
      "text/plain": [
       "<__main__.GA at 0x122238820>"
      ]
     },
     "execution_count": 10,
     "metadata": {},
     "output_type": "execute_result"
    }
   ],
   "source": [
    "# calls the Genetic Algorithm\n",
    "ga1 = GA( \n",
    "    generation = 10, \n",
    "    pop_size = 50, \n",
    "    chromo_size = 5, \n",
    "    low = 0, \n",
    "    high = 100, \n",
    "    retain_rate = 0.5, \n",
    "    mutate_rate = 0.2\n",
    ")\n",
    "ga1.fit(target = 200)"
   ]
  },
  {
   "cell_type": "code",
   "execution_count": 12,
   "metadata": {},
   "outputs": [
    {
     "data": {
      "text/plain": [
       "[info(cost=0, chromo=[15, 43, 34, 65, 43]),\n",
       " info(cost=0, chromo=[7, 68, 28, 91, 6]),\n",
       " info(cost=0, chromo=[7, 68, 28, 91, 6]),\n",
       " info(cost=0, chromo=[7, 68, 28, 91, 6]),\n",
       " info(cost=0, chromo=[7, 68, 28, 91, 6]),\n",
       " info(cost=0, chromo=[7, 68, 28, 91, 6]),\n",
       " info(cost=0, chromo=[7, 68, 28, 91, 6]),\n",
       " info(cost=0, chromo=[7, 68, 28, 91, 6]),\n",
       " info(cost=0, chromo=[7, 68, 28, 91, 6]),\n",
       " info(cost=0, chromo=[7, 68, 28, 91, 6])]"
      ]
     },
     "execution_count": 12,
     "metadata": {},
     "output_type": "execute_result"
    }
   ],
   "source": [
    "# the best chromo and its cost during each generation (iteration)\n",
    "ga1.generation_history"
   ]
  },
  {
   "cell_type": "code",
   "execution_count": 13,
   "metadata": {},
   "outputs": [
    {
     "data": {
      "text/plain": [
       "info(cost=0, chromo=[7, 68, 28, 91, 6])"
      ]
     },
     "execution_count": 13,
     "metadata": {},
     "output_type": "execute_result"
    }
   ],
   "source": [
    "# Get the best one (one of them)\n",
    "ga1.best"
   ]
  },
  {
   "cell_type": "markdown",
   "metadata": {},
   "source": [
    "# References"
   ]
  },
  {
   "cell_type": "markdown",
   "metadata": {},
   "source": [
    "\n",
    "- [Step-by-step guide on how to build a GA](https://github.com/ethen8181/machine-learning/blob/master/ga/ga.py)\n",
    "- [link to source code](https://nbviewer.jupyter.org/github/ethen8181/machine-learning/blob/master/ga/ga.ipynb)\n",
    "- [Blog: Genetic Algorithms: Cool Name & Damn Simple](http://lethain.com/genetic-algorithms-cool-name-damn-simple/)\n",
    "- [Blog: Machine Learning: Introduction to Genetic Algorithms](https://www.burakkanber.com/blog/machine-learning-genetic-algorithms-part-1-javascript/)\n",
    "- [Tutorial: Applying a Genetic Algorithm to the traveling salesman problem](http://www.theprojectspot.com/tutorial-post/applying-a-genetic-algorithm-to-the-travelling-salesman-problem/5)\n",
    "\n",
""   ]
  },
  {
   "cell_type": "code",
   "execution_count": null,
   "metadata": {},
   "outputs": [],
   "source": []
  }
 ],
 "metadata": {
  "anaconda-cloud": {},
  "kernelspec": {
   "display_name": "trainingAI",
   "language": "python",
   "name": "trainingai"
  },
  "language_info": {
   "codemirror_mode": {
    "name": "ipython",
    "version": 3
   },
   "file_extension": ".py",
   "mimetype": "text/x-python",
   "name": "python",
   "nbconvert_exporter": "python",
   "pygments_lexer": "ipython3",
   "version": "3.8.5"
  },
  "toc": {
   "nav_menu": {
    "height": "277px",
    "width": "252px"
   },
   "number_sections": true,
   "sideBar": true,
   "skip_h1_title": false,
   "title_cell": "Table of Contents",
   "title_sidebar": "Contents",
   "toc_cell": true,
   "toc_position": {},
   "toc_section_display": "block",
   "toc_window_display": true
  },
  "varInspector": {
   "cols": {
    "lenName": 16,
    "lenType": 16,
    "lenVar": 40
   },
   "kernels_config": {
    "python": {
     "delete_cmd_postfix": "",
     "delete_cmd_prefix": "del ",
     "library": "var_list.py",
     "varRefreshCmd": "print(var_dic_list())"
    },
    "r": {
     "delete_cmd_postfix": ") ",
     "delete_cmd_prefix": "rm(",
     "library": "var_list.r",
     "varRefreshCmd": "cat(var_dic_list()) "
    }
   },
   "types_to_exclude": [
    "module",
    "function",
    "builtin_function_or_method",
    "instance",
    "_Feature"
   ],
   "window_display": false
  }
 },
 "nbformat": 4,
 "nbformat_minor": 1
}
