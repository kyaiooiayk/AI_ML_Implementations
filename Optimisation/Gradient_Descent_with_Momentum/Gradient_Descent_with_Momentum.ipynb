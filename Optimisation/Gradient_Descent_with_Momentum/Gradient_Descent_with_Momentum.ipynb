{
 "cells": [
  {
   "cell_type": "code",
   "execution_count": null,
   "metadata": {},
   "outputs": [],
   "source": [
    "Gradient_Descent_with_Momentum\n",
    "\n",
    "https://machinelearningmastery.com/gradient-descent-with-momentum-from-scratch/\n",
    "\n",
    "https://machinelearningmastery.com/gradient-descent-with-nesterov-momentum-from-scratch/"
   ]
  }
 ],
 "metadata": {
  "hide_input": false,
  "kernelspec": {
   "display_name": "trainingAI",
   "language": "python",
   "name": "trainingai"
  },
  "language_info": {
   "codemirror_mode": {
    "name": "ipython",
    "version": 3
   },
   "file_extension": ".py",
   "mimetype": "text/x-python",
   "name": "python",
   "nbconvert_exporter": "python",
   "pygments_lexer": "ipython3",
   "version": "3.8.5"
  }
 },
 "nbformat": 4,
 "nbformat_minor": 2
}
