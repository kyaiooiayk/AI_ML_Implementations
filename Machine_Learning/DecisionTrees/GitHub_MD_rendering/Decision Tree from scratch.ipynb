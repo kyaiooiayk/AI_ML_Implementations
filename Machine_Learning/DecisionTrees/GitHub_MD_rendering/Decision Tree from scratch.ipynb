{
 "cells": [
  {
   "cell_type": "markdown",
   "metadata": {},
   "source": [
    "# Introduction"
   ]
  },
  {
   "cell_type": "markdown",
   "metadata": {},
   "source": [
    "\n",
    "**What?** Decision trees from scratch\n",
    "\n",
""   ]
  },
  {
   "cell_type": "markdown",
   "metadata": {},
   "source": [
    "# Import modules"
   ]
  },
  {
   "cell_type": "code",
   "execution_count": 1,
   "metadata": {},
   "outputs": [],
   "source": [
    "import numpy as np\n",
    "import pandas as pd\n",
    "import matplotlib.pyplot as plt\n",
    "from graphviz import Source\n",
    "from sklearn.datasets import load_iris\n",
    "from sklearn.metrics import accuracy_score\n",
    "from sklearn.tree import export_graphviz\n",
    "from sklearn.tree import DecisionTreeClassifier"
   ]
  },
  {
   "cell_type": "markdown",
   "metadata": {},
   "source": [
    "# Decision Tree (Classification)"
   ]
  },
  {
   "cell_type": "markdown",
   "metadata": {},
   "source": [
    "\n",
    "\n",
    "Let us first create a scenario: say I want to buy a house and wish to borrow a loan from the bank. Now before giving me the loan, the bank is going to look at my history record like my credit, what has it been like in the past? How much money do I make? (and maybe some other information) and use them to determine whether loaning me money is a risky thing or not (whether I'm going to default). So how can the bank do this with decision trees?\n",
    "\n",
    "Decision trees are formed by a collection of rules (**if-then** statements that partition the data) based on variables available from the data set. So in the example above, a very simple decision tree model could look like this:\n",
    "\n",
    "```\n",
    "if Credit = excellent then\n",
    "    Outcome = Yes\n",
    "else if Credit = poor then\n",
    "    if Income = high then\n",
    "        Outcome = Yes\n",
    "    else if Income = low then\n",
    "        Outcome = No\n",
    "```\n",
    "\n",
    "The algorithm works by starting at the top of the tree (the root node), then it will traverse down the branches of this decision tree and ask a series of questions. In the end it will reach the bottom of the tree (the leaf node) that contains the final outcome. For example, if somebody has a credit that's poor and his/her income is high, then the bank will say a Yes, we will give him/her the loan. \n",
    "\n",
    "Our task now is to learn how to generate the tree to create these decision rules for us. Thankfully, the core method for learning a decision tree can be viewed as a recursive algorithm. A decision tree can be \"learned\" by splitting the dataset into subsets based on the input features/attributes' value. This process is repeated on each derived subset in a recursive manner called recursive partitioning:\n",
    "\n",
    "1. Start at the tree's root node\n",
    "2. Select the best rule/feature that splits the data into two subsets (child node) for the current node\n",
    "3. Repeated step 2 on each of the derived subset until the tree can't be further splitted. As we'll later see, we can set restrictions to decide when the tree should stop growing.\n",
    "\n",
    "There are a few additional details that we need to make more concrete. Including how to pick the rule/feature to split on and because it is a recursive algorithm, we have to figure out when to stop the recursion, in other words, when to not go and split another node in the tree."
   ]
  },
  {
   "cell_type": "markdown",
   "metadata": {},
   "source": [
    "## Splitting criteria for classification trees"
   ]
  },
  {
   "cell_type": "markdown",
   "metadata": {},
   "source": [
    "The first question is what is the best rule/feature to split on and how do we measure that? One way to determine this is by choosing the one that maximizes the **Information Gain (IG)** at each split.\n",
    "\n",
    "$$IG(D_{p}, a) = I(D_{p}) - p_{left} I(D_{left}) - p_{right} I(D_{right})$$\n",
    "\n",
    "- $IG$: Information Gain\n",
    "- $a$: feature to perform the split\n",
    "- $I$: Some impurity measure that we'll look at in the subsequent section\n",
    "- $D_{p}$: training subset of the parent node\n",
    "- $D_{left}$, $D_{right}$ :training subset of the left/right child node\n",
    "- $p_{left}$, $p_{right}$: proportion of parent node samples that ended up in the left/right child node after the split. $\\frac{N_{left}}{N_p}$ or $\\frac{N_{right}}{N_p}$. Where:\n",
    "    - $N_p$: number of samples in the parent node\n",
    "    - $N_{left}$: number of samples in the left child node\n",
    "    - $N_{right}$: number of samples in the right child node"
   ]
  },
  {
   "cell_type": "markdown",
   "metadata": {},
   "source": [
    "## Impurity\n",
    "\n",
    "The two most common impurity measure are entropy and gini index."
   ]
  },
  {
   "cell_type": "markdown",
   "metadata": {},
   "source": [
    "### Entropy"
   ]
  },
  {
   "cell_type": "markdown",
   "metadata": {},
   "source": [
    "Entropy is defined as:\n",
    "\n",
    "$$I_E(t) = - \\sum_{i =1}^{C} p(i \\mid t) \\;log_2 \\,p(i \\mid t)$$\n",
    "\n",
    "for all non-empty classes, $p(i \\mid t) \\neq 0$, where:\n",
    "\n",
    "- $p(i \\mid t)$ is the proportion (or frequency or probability) of the samples that belong to class $i$ for a particular node $t$\n",
    "- $C$ is the number of unique class labels\n",
    "\n",
    "The entropy is therefore 0 if all samples at a node belong to the same class, and the entropy is maximal if we have an uniform class distribution. For example, in a binary class setting, the entropy is 0 if  $p(i =1 \\mid t) =1$ or $p(i =0 \\mid t) =1$. And if the classes are distributed uniformly with $p(i =1 \\mid t) = 0.5$ and $p(i =0 \\mid t) =0.5$ the entropy is 1, which we can visualize by plotting the entropy for binary class setting below."
   ]
  },
  {
   "cell_type": "code",
   "execution_count": 2,
   "metadata": {},
   "outputs": [
    {
     "data": {
      "image/png": "[encoded data removed]",
      "text/plain": [
       "<Figure size 576x432 with 1 Axes>"
      ]
     },
     "metadata": {
      "needs_background": "light"
     },
     "output_type": "display_data"
    }
   ],
   "source": [
    "def entropy(p):\n",
    "    return - p * np.log2(p) - (1 - p) * np.log2(1 - p)\n",
    "\n",
    "# change default figure and font size\n",
    "plt.rcParams['figure.figsize'] = 8, 6 \n",
    "plt.rcParams['font.size'] = 12\n",
    "\n",
    "x = np.arange(0.0, 1.0, 0.01)\n",
    "ent = [entropy(p) if p != 0 else None for p in x]\n",
    "plt.plot(x, ent)\n",
    "plt.axhline(y = 1.0, linewidth = 1, color = 'k', linestyle = '--')\n",
    "plt.ylim([ 0, 1.1 ])\n",
    "plt.xlabel('p(i=1)')\n",
    "plt.ylabel('Entropy')\n",
    "plt.show()"
   ]
  },
  {
   "cell_type": "markdown",
   "metadata": {},
   "source": [
    "### Gini Index"
   ]
  },
  {
   "cell_type": "markdown",
   "metadata": {},
   "source": [
    "Gini Index is defined as:\n",
    "\n",
    "$$\n",
    "\\begin{align*}\n",
    "I_G(t) &= \\sum_{i =1}^{C} p(i \\mid t) \\big(1-p(i \\mid t)\\big) \\nonumber \\\\ \n",
    "       &= \\sum_{i =1}^{C} p(i \\mid t) - p(i \\mid t)^2 \\nonumber \\\\ \n",
    "       &= \\sum_{i =1}^{C} p(i \\mid t) - \\sum_{i =1}^{C} p(i \\mid t)^2 \\nonumber \\\\ \n",
    "       &= 1 - \\sum_{i =1}^{C} p(i \\mid t)^2\n",
    "\\end{align*}\n",
    "$$\n",
    "\n",
    "Compared to Entropy, the maximum value of the Gini index is 0.5, which occurs when the classes are perfectly balanced in a node. On the other hand, the minimum value of the Gini index is 0 and occurs when there is only one class represented in a node (A node with a lower Gini index is said to be more \"pure\").\n",
    "\n",
    "This time we plot Entropy and Gini index together to compare them against each other."
   ]
  },
  {
   "cell_type": "code",
   "execution_count": 3,
   "metadata": {},
   "outputs": [
    {
     "data": {
      "image/png": "[encoded data removed]",
      "text/plain": [
       "<Figure size 576x432 with 1 Axes>"
      ]
     },
     "metadata": {
      "needs_background": "light"
     },
     "output_type": "display_data"
    }
   ],
   "source": [
    "def gini(p):\n",
    "    return p * (1 - p) + (1 - p) * ( 1 - (1 - p) )\n",
    "\n",
    "gi = gini(x)\n",
    "\n",
    "# plot\n",
    "for i, lab in zip([ent, gi], ['Entropy', 'Gini Index']):\n",
    "    plt.plot(x, i, label = lab)\n",
    "\n",
    "plt.legend(loc = 'upper center', bbox_to_anchor = (0.5, 1.15),\n",
    "           ncol = 3, fancybox = True, shadow = False)\n",
    "plt.axhline(y = 0.5, linewidth = 1, color = 'k', linestyle = '--')\n",
    "plt.axhline(y = 1.0, linewidth = 1, color = 'k', linestyle = '--')\n",
    "plt.ylim([ 0, 1.1 ])\n",
    "plt.xlabel('p(i=1)')\n",
    "plt.ylabel('Impurity')\n",
    "plt.tight_layout()\n",
    "plt.show()"
   ]
  },
  {
   "cell_type": "markdown",
   "metadata": {},
   "source": [
    "As we can see from the plot, there is not much differences (as in they both increase and decrease at similar range). In practice, Gini Index and Entropy typically yield very similar results and it is often not worth spending much time on evaluating decision tree models using different impurity criteria. As for which one to use, maybe consider Gini Index, because this way, we don’t need to compute the log, which can make it a bit computationly faster.\n",
    "\n",
    "Decision trees can also be used on regression task. It's just instead of using gini index or entropy as the impurity function, we use criteria such as MSE (mean square error):\n",
    "\n",
    "$$I_{MSE}(t) = \\frac{1}{N_t} \\sum_i^{N_t}(y_i - \\bar{y})^2$$\n",
    "\n",
    "Where $\\bar{y}$ is the averages of the response at node $t$, and $N_t$ is the number of observations that reached node $t$. This is simply saying, we compute the differences between all $N_t$ observation's reponse to the average response, square it and take the average."
   ]
  },
  {
   "cell_type": "markdown",
   "metadata": {},
   "source": [
    "## Concrete Example"
   ]
  },
  {
   "cell_type": "markdown",
   "metadata": {},
   "source": [
    "Here we'll calculate the Entropy score by hand to hopefully make things a bit more concrete. Using the bank loan example again, suppose at a particular node, there are 80 observations, of whom 40 were classified as Yes (the bank will issue the loan) and 40 were classified as No.\n",
    "\n",
    "We can first calculate the Entropy before making a split:\n",
    "\n",
    "$$I_E(D_{p}) = - \\left( \\frac{40}{80} log_2(\\frac{40}{80}) + \\frac{40}{80} log_2(\\frac{40}{80}) \\right) = 1$$\n",
    "\n",
    "Suppose we try splitting on Income and the child nodes turn out to be.\n",
    "\n",
    "- Left (Income = high): 30 Yes and 10 No\n",
    "- Right (Income = low): 10 Yes and 30 No\n",
    "\n",
    "$$I_E(D_{left}) = - \\left( \\frac{30}{40} log_2(\\frac{30}{40}) + \\frac{10}{40} log_2(\\frac{10}{40}) \\right) = 0.81$$\n",
    "$$I_E(D_{right}) = - \\left( \\frac{10}{40} log_2(\\frac{10}{40}) + \\frac{30}{40} log_2(\\frac{30}{40}) \\right) = 0.81$$\n",
    "$$IG(D_{p}, Income) = 1 - \\frac{40}{80} (0.81) - \\frac{40}{80} (0.81) = 0.19$$\n",
    "\n",
    "Next we repeat the same process and evaluate the split based on splitting by Credit.\n",
    "\n",
    "- Left (Credit = excellent): 20 Yes and 0 No\n",
    "- Right (Credit = poot): 20 Yes and 40 No\n",
    "\n",
    "$$I_E(D_{left}) = - \\left( \\frac{20}{20} log_2(\\frac{20}{20}) + \\frac{0}{20} log_2(\\frac{0}{20}) \\right) = 0$$\n",
    "$$I_E(D_{right}) = - \\left( \\frac{20}{60} log_2(\\frac{20}{60}) + \\frac{40}{60} log_2(\\frac{40}{60}) \\right) = 0.92$$\n",
    "$$IG(D_{p}, Credit) = 1 - \\frac{20}{80} (0) - \\frac{60}{80} (0.92) = 0.31$$\n",
    "\n",
    "In this case, it will choose Credit as the feature to split upon.\n",
    "\n",
    "If we were to have more features, the decision tree algorithm will simply try every possible split, and will choose the split that maximizes the information gain. If the feature is a continuous variable, then we can simply get the unique values of that feature in a sorted order, then try all possible split values (threshold) by using cutoff point (average) between every two values (e.g. a unique value of 1, 2, 3 will result in trying the split on the value 1.5 and 2.5). Or to speed up computations, we can bin the unqiue values into buckets, and split on the buckets."
   ]
  },
  {
   "cell_type": "markdown",
   "metadata": {},
   "source": [
    "## When To Stop Recursing"
   ]
  },
  {
   "cell_type": "markdown",
   "metadata": {},
   "source": [
    "The other question that we need to address is when to stop the tree from growing. There are some early stopping criteria that is commonly used to prevent the tree from overfitting.\n",
    "\n",
    "- **Maximum depth** The length of the longest path from a root node to a leaf node will not exceed this value. This is the most commonly tuned hyperparameter for tree-based method\n",
    "- **Minimum sample split:** The minimum number of samples required to split a node should be greater than this number\n",
    "- **Minimum information gain** The minimum information gain required for splitting on the best feature\n",
    "\n",
    "And that's pretty much it for classification trees! For a more visual appealing explanation, the following link this a website that uses interactive visualization to demonstrate how decision trees work. [A Visual Introduction to Machine Learning](http://www.r2d3.us/visual-intro-to-machine-learning-part-1/)"
   ]
  },
  {
   "cell_type": "markdown",
   "metadata": {},
   "source": [
    "## Implementation"
   ]
  },
  {
   "cell_type": "markdown",
   "metadata": {},
   "source": [
    "With all of that in mind, the following section implements a toy classification tree algorithm."
   ]
  },
  {
   "cell_type": "code",
   "execution_count": 4,
   "metadata": {},
   "outputs": [],
   "source": [
    "class Tree:\n",
    "    \"\"\"\n",
    "    Classification tree using information gain with entropy as impurity\n",
    "\n",
    "    Parameters\n",
    "    ----------\n",
    "    max_features : int or None, default None\n",
    "        The number of features to consider when looking for the best split,\n",
    "        None uses all features\n",
    "\n",
    "    min_samples_split : int, default 10\n",
    "        The minimum number of samples required to split an internal node\n",
    "\n",
    "    max_depth : int, default 3\n",
    "        Maximum depth of the tree\n",
    "\n",
    "    minimum_gain : float, default 1e-7\n",
    "        Minimum information gain required for splitting\n",
    "    \"\"\"\n",
    "\n",
    "    def __init__(self, max_depth = 3, max_features = None,\n",
    "                 minimum_gain = 1e-7, min_samples_split = 10):\n",
    "        self.max_depth = max_depth\n",
    "        self.max_features = max_features\n",
    "        self.minimum_gain = minimum_gain\n",
    "        self.min_samples_split = min_samples_split\n",
    "\n",
    "    def fit(self, X, y):\n",
    "        \"\"\"pass in the 2d-array dataset and the response column\"\"\"\n",
    "        self.n_class = np.unique(y).shape[0]\n",
    "\n",
    "        # in the case you're wondering why we have this implementation of\n",
    "        # choosing the number of features to consider when looking\n",
    "        # for the best split, it will become much clearer when we\n",
    "        # start discussing Random Forest algorithm\n",
    "        if self.max_features is None or self.max_features > X.shape[1]:\n",
    "            self.max_features = X.shape[1]\n",
    "\n",
    "        self.feature_importance = np.zeros(X.shape[1])\n",
    "        self.tree = _create_decision_tree(X, y, self.max_depth,\n",
    "                                          self.minimum_gain, self.max_features,\n",
    "                                          self.min_samples_split, self.n_class,\n",
    "                                          self.feature_importance, X.shape[0])\n",
    "        self.feature_importance /= np.sum(self.feature_importance)\n",
    "        return self\n",
    "\n",
    "    def predict(self, X):\n",
    "        proba = self.predict_proba(X)\n",
    "        pred = np.argmax(proba, axis = 1)\n",
    "        return pred\n",
    "\n",
    "    def predict_proba(self, X):\n",
    "        proba = np.empty((X.shape[0], self.n_class))\n",
    "        for i in range(X.shape[0]):\n",
    "            proba[i] = self._predict_row(X[i, :], self.tree)\n",
    "\n",
    "        return proba\n",
    "\n",
    "    def _predict_row(self, row, tree):\n",
    "        \"\"\"Predict single row\"\"\"\n",
    "        if tree['is_leaf']:\n",
    "            return tree['prob']\n",
    "        else:\n",
    "            if row[tree['split_col']] <= tree['threshold']:\n",
    "                return self._predict_row(row, tree['left'])\n",
    "            else:\n",
    "                return self._predict_row(row, tree['right'])"
   ]
  },
  {
   "cell_type": "code",
   "execution_count": 5,
   "metadata": {},
   "outputs": [],
   "source": [
    "def _create_decision_tree(X, y, max_depth,\n",
    "                          minimum_gain, max_features,\n",
    "                          min_samples_split, n_class,\n",
    "                          feature_importance, n_row):\n",
    "    \"\"\"recursively grow the decision tree until it reaches the stopping criteria\"\"\"\n",
    "    try:\n",
    "        assert max_depth > 0\n",
    "        assert X.shape[0] > min_samples_split\n",
    "        column, value, gain = _find_best_split(X, y, max_features)\n",
    "        assert gain > minimum_gain\n",
    "        feature_importance[column] += (X.shape[0] / n_row) * gain\n",
    "\n",
    "        # split the dataset and grow left and right child\n",
    "        left_X, right_X, left_y, right_y = _split(X, y, column, value)\n",
    "        left_child = _create_decision_tree(left_X, left_y, max_depth - 1,\n",
    "                                           minimum_gain, max_features,\n",
    "                                           min_samples_split, n_class,\n",
    "                                           feature_importance, n_row)\n",
    "        right_child = _create_decision_tree(right_X, right_y, max_depth - 1,\n",
    "                                            minimum_gain, max_features,\n",
    "                                            min_samples_split, n_class,\n",
    "                                            feature_importance, n_row)\n",
    "    except AssertionError:\n",
    "        # if criteria reached, compute the classification\n",
    "        # probability and return it as a leaf node\n",
    "\n",
    "        # note that some leaf node may only contain partial classes,\n",
    "        # thus specify the minlength so class that don't appear will\n",
    "        # still get assign a probability of 0\n",
    "        counts = np.bincount(y, minlength = n_class)\n",
    "        prob = counts / y.shape[0]\n",
    "        leaf = {'is_leaf': True, 'prob': prob}\n",
    "        return leaf\n",
    "\n",
    "    node = {'is_leaf': False,\n",
    "            'left': left_child,\n",
    "            'right': right_child,\n",
    "            'split_col': column,\n",
    "            'threshold': value}\n",
    "    return node\n",
    "\n",
    "\n",
    "def _find_best_split(X, y, max_features):\n",
    "    \"\"\"Greedy algorithm to find the best feature and value for a split\"\"\"\n",
    "    subset = np.random.choice(X.shape[1], max_features, replace = False)\n",
    "    max_col, max_val, max_gain = None, None, None\n",
    "    parent_entropy = _compute_entropy(y)\n",
    "\n",
    "    for column in subset:\n",
    "        split_values = _find_splits(X, column)\n",
    "        for value in split_values:\n",
    "            splits = _split(X, y, column, value, return_X = False)\n",
    "            gain = parent_entropy - _compute_splits_entropy(y, splits)\n",
    "\n",
    "            if max_gain is None or gain > max_gain:\n",
    "                max_col, max_val, max_gain = column, value, gain\n",
    "\n",
    "    return max_col, max_val, max_gain\n",
    "\n",
    "\n",
    "def _compute_entropy(split):\n",
    "    \"\"\"entropy score using a fix log base 2\"\"\"\n",
    "    _, counts = np.unique(split, return_counts = True)\n",
    "    p = counts / split.shape[0]\n",
    "    entropy = -np.sum(p * np.log2(p))\n",
    "    return entropy\n",
    "\n",
    "\n",
    "def _find_splits(X, column):\n",
    "    \"\"\"\n",
    "    find all possible split values (threshold),\n",
    "    by getting unique values in a sorted order\n",
    "    and finding cutoff point (average) between every two values\n",
    "    \"\"\"\n",
    "    X_unique = np.unique(X[:, column])\n",
    "    split_values = np.empty(X_unique.shape[0] - 1)\n",
    "    for i in range(1, X_unique.shape[0]):\n",
    "        average = (X_unique[i - 1] + X_unique[i]) / 2\n",
    "        split_values[i - 1] = average\n",
    "\n",
    "    return split_values\n",
    "\n",
    "\n",
    "def _compute_splits_entropy(y, splits):\n",
    "    \"\"\"compute the entropy for the splits (the two child nodes)\"\"\"\n",
    "    splits_entropy = 0\n",
    "    for split in splits:\n",
    "        splits_entropy += (split.shape[0] / y.shape[0]) * _compute_entropy(split)\n",
    "\n",
    "    return splits_entropy\n",
    "\n",
    "\n",
    "def _split(X, y, column, value, return_X = True):\n",
    "    \"\"\"split the response column using the cutoff threshold\"\"\"\n",
    "    left_mask = X[:, column] <= value\n",
    "    right_mask = X[:, column] > value\n",
    "    left_y, right_y = y[left_mask], y[right_mask]\n",
    "\n",
    "    if not return_X:\n",
    "        return left_y, right_y\n",
    "    else:\n",
    "        left_X, right_X = X[left_mask], X[right_mask]\n",
    "        return left_X, right_X, left_y, right_y"
   ]
  },
  {
   "cell_type": "markdown",
   "metadata": {},
   "source": [
    "We will load the [Iris dataset](http://scikit-learn.org/stable/modules/generated/sklearn.datasets.load_iris.html), and use it as a sample dataset to test our algorithm. This data sets consists of 3 different types of irises’ (Setosa, Versicolour, and Virginica). It is stored as a 150x4 numpy.ndarray, where the rows are the samples and the columns being Sepal Length, Sepal Width, Petal Length and Petal Width."
   ]
  },
  {
   "cell_type": "code",
   "execution_count": 6,
   "metadata": {},
   "outputs": [
    {
     "name": "stdout",
     "output_type": "stream",
     "text": [
      "classification distribution:  [50 48 52]\n",
      "accuracy score:  0.9733333333333334\n"
     ]
    }
   ],
   "source": [
    "# load a sample dataset\n",
    "iris = load_iris()\n",
    "X = iris.data\n",
    "y = iris.target\n",
    "\n",
    "# train model and print the accuracy score\n",
    "tree = Tree()\n",
    "tree.fit(X, y)\n",
    "y_pred = tree.predict(X)\n",
    "print('classification distribution: ', np.bincount(y_pred))\n",
    "print('accuracy score: ', accuracy_score(y, y_pred))"
   ]
  },
  {
   "cell_type": "code",
   "execution_count": 7,
   "metadata": {},
   "outputs": [
    {
     "name": "stdout",
     "output_type": "stream",
     "text": [
      "classification distribution:  [50 48 52]\n",
      "accuracy score:  0.9733333333333334\n"
     ]
    }
   ],
   "source": [
    "# use library to confirm results are comparable\n",
    "clf = DecisionTreeClassifier(criterion = 'entropy', min_samples_split = 10, max_depth = 3)\n",
    "clf.fit(X, y)\n",
    "y_pred = clf.predict(X)\n",
    "print('classification distribution: ', np.bincount(y_pred))\n",
    "print('accuracy score: ', accuracy_score(y, y_pred))"
   ]
  },
  {
   "cell_type": "markdown",
   "metadata": {},
   "source": [
    "**Advantages of decision trees:**\n",
    "\n",
    "\n",
    "- Features don't require scaling or normalization\n",
    "- Great at dealing with data that have lots of categorical features\n",
    "- Can be displayed graphically, thus making it highly interpretable (in the next code chunk)\n",
    "- It is non-parametric, thus it will outperform linear models if relationship between features and response is highly non-linear\n",
    "\n",
    "For visualizing the decision tree, you might need to have graphviz installed. For the mac user, try doing `brew install graphviz` or follow the instructions in this [link](http://macappstore.org/graphviz-2/)."
   ]
  },
  {
   "cell_type": "code",
   "execution_count": 8,
   "metadata": {},
   "outputs": [
    {
     "data": {
      "image/svg+xml": [
       "<?xml version=\"1.0\" encoding=\"UTF-8\" standalone=\"no\"?>\n",
       "<!DOCTYPE svg PUBLIC \"-//W3C//DTD SVG 1.1//EN\"\n",
       " \"http://www.w3.org/Graphics/SVG/1.1/DTD/svg11.dtd\">\n",
       "<!-- Generated by graphviz version 2.40.1 (20161225.0304)\n",
       " -->\n",
       "<!-- Title: Tree Pages: 1 -->\n",
       "<svg width=\"529pt\" height=\"414pt\"\n",
       " viewBox=\"0.00 0.00 529.31 414.00\" xmlns=\"http://www.w3.org/2000/svg\" xmlns:xlink=\"http://www.w3.org/1999/xlink\">\n",
       "<g id=\"graph0\" class=\"graph\" transform=\"scale(1 1) rotate(0) translate(4 410)\">\n",
       "<title>Tree</title>\n",
       "<polygon fill=\"#ffffff\" stroke=\"transparent\" points=\"-4,4 -4,-410 525.313,-410 525.313,4 -4,4\"/>\n",
       "<!-- 0 -->\n",
       "<g id=\"node1\" class=\"node\">\n",
       "<title>0</title>\n",
       "<polygon fill=\"#ffffff\" stroke=\"#000000\" points=\"264.4634,-406 105.6255,-406 105.6255,-328 264.4634,-328 264.4634,-406\"/>\n",
       "<text text-anchor=\"middle\" x=\"185.0444\" y=\"-390.8\" font-family=\"Times,serif\" font-size=\"14.00\" fill=\"#000000\">petal length (cm) &lt;= 2.45</text>\n",
       "<text text-anchor=\"middle\" x=\"185.0444\" y=\"-376.8\" font-family=\"Times,serif\" font-size=\"14.00\" fill=\"#000000\">entropy = 1.585</text>\n",
       "<text text-anchor=\"middle\" x=\"185.0444\" y=\"-362.8\" font-family=\"Times,serif\" font-size=\"14.00\" fill=\"#000000\">samples = 150</text>\n",
       "<text text-anchor=\"middle\" x=\"185.0444\" y=\"-348.8\" font-family=\"Times,serif\" font-size=\"14.00\" fill=\"#000000\">value = [50, 50, 50]</text>\n",
       "<text text-anchor=\"middle\" x=\"185.0444\" y=\"-334.8\" font-family=\"Times,serif\" font-size=\"14.00\" fill=\"#000000\">class = setosa</text>\n",
       "</g>\n",
       "<!-- 1 -->\n",
       "<g id=\"node2\" class=\"node\">\n",
       "<title>1</title>\n",
       "<polygon fill=\"#e58139\" stroke=\"#000000\" points=\"165.0825,-285 53.0064,-285 53.0064,-221 165.0825,-221 165.0825,-285\"/>\n",
       "<text text-anchor=\"middle\" x=\"109.0444\" y=\"-269.8\" font-family=\"Times,serif\" font-size=\"14.00\" fill=\"#000000\">entropy = 0.0</text>\n",
       "<text text-anchor=\"middle\" x=\"109.0444\" y=\"-255.8\" font-family=\"Times,serif\" font-size=\"14.00\" fill=\"#000000\">samples = 50</text>\n",
       "<text text-anchor=\"middle\" x=\"109.0444\" y=\"-241.8\" font-family=\"Times,serif\" font-size=\"14.00\" fill=\"#000000\">value = [50, 0, 0]</text>\n",
       "<text text-anchor=\"middle\" x=\"109.0444\" y=\"-227.8\" font-family=\"Times,serif\" font-size=\"14.00\" fill=\"#000000\">class = setosa</text>\n",
       "</g>\n",
       "<!-- 0&#45;&gt;1 -->\n",
       "<g id=\"edge1\" class=\"edge\">\n",
       "<title>0&#45;&gt;1</title>\n",
       "<path fill=\"none\" stroke=\"#000000\" d=\"M158.8895,-327.7677C151.5714,-316.7904 143.6019,-304.8362 136.2258,-293.772\"/>\n",
       "<polygon fill=\"#000000\" stroke=\"#000000\" points=\"138.9205,-291.5043 130.4612,-285.1252 133.0961,-295.3872 138.9205,-291.5043\"/>\n",
       "<text text-anchor=\"middle\" x=\"125.5583\" y=\"-305.4397\" font-family=\"Times,serif\" font-size=\"14.00\" fill=\"#000000\">True</text>\n",
       "</g>\n",
       "<!-- 2 -->\n",
       "<g id=\"node3\" class=\"node\">\n",
       "<title>2</title>\n",
       "<polygon fill=\"#ffffff\" stroke=\"#000000\" points=\"338.86,-292 183.2289,-292 183.2289,-214 338.86,-214 338.86,-292\"/>\n",
       "<text text-anchor=\"middle\" x=\"261.0444\" y=\"-276.8\" font-family=\"Times,serif\" font-size=\"14.00\" fill=\"#000000\">petal width (cm) &lt;= 1.75</text>\n",
       "<text text-anchor=\"middle\" x=\"261.0444\" y=\"-262.8\" font-family=\"Times,serif\" font-size=\"14.00\" fill=\"#000000\">entropy = 1.0</text>\n",
       "<text text-anchor=\"middle\" x=\"261.0444\" y=\"-248.8\" font-family=\"Times,serif\" font-size=\"14.00\" fill=\"#000000\">samples = 100</text>\n",
       "<text text-anchor=\"middle\" x=\"261.0444\" y=\"-234.8\" font-family=\"Times,serif\" font-size=\"14.00\" fill=\"#000000\">value = [0, 50, 50]</text>\n",
       "<text text-anchor=\"middle\" x=\"261.0444\" y=\"-220.8\" font-family=\"Times,serif\" font-size=\"14.00\" fill=\"#000000\">class = versicolor</text>\n",
       "</g>\n",
       "<!-- 0&#45;&gt;2 -->\n",
       "<g id=\"edge2\" class=\"edge\">\n",
       "<title>0&#45;&gt;2</title>\n",
       "<path fill=\"none\" stroke=\"#000000\" d=\"M211.1993,-327.7677C216.9912,-319.0798 223.191,-309.7801 229.1818,-300.794\"/>\n",
       "<polygon fill=\"#000000\" stroke=\"#000000\" points=\"232.2065,-302.5666 234.8413,-292.3046 226.3821,-298.6837 232.2065,-302.5666\"/>\n",
       "<text text-anchor=\"middle\" x=\"239.7442\" y=\"-312.6192\" font-family=\"Times,serif\" font-size=\"14.00\" fill=\"#000000\">False</text>\n",
       "</g>\n",
       "<!-- 3 -->\n",
       "<g id=\"node4\" class=\"node\">\n",
       "<title>3</title>\n",
       "<polygon fill=\"#4de88e\" stroke=\"#000000\" points=\"252.4634,-178 93.6255,-178 93.6255,-100 252.4634,-100 252.4634,-178\"/>\n",
       "<text text-anchor=\"middle\" x=\"173.0444\" y=\"-162.8\" font-family=\"Times,serif\" font-size=\"14.00\" fill=\"#000000\">petal length (cm) &lt;= 4.95</text>\n",
       "<text text-anchor=\"middle\" x=\"173.0444\" y=\"-148.8\" font-family=\"Times,serif\" font-size=\"14.00\" fill=\"#000000\">entropy = 0.445</text>\n",
       "<text text-anchor=\"middle\" x=\"173.0444\" y=\"-134.8\" font-family=\"Times,serif\" font-size=\"14.00\" fill=\"#000000\">samples = 54</text>\n",
       "<text text-anchor=\"middle\" x=\"173.0444\" y=\"-120.8\" font-family=\"Times,serif\" font-size=\"14.00\" fill=\"#000000\">value = [0, 49, 5]</text>\n",
       "<text text-anchor=\"middle\" x=\"173.0444\" y=\"-106.8\" font-family=\"Times,serif\" font-size=\"14.00\" fill=\"#000000\">class = versicolor</text>\n",
       "</g>\n",
       "<!-- 2&#45;&gt;3 -->\n",
       "<g id=\"edge3\" class=\"edge\">\n",
       "<title>2&#45;&gt;3</title>\n",
       "<path fill=\"none\" stroke=\"#000000\" d=\"M230.7598,-213.7677C223.9152,-204.9007 216.5785,-195.3964 209.5093,-186.2385\"/>\n",
       "<polygon fill=\"#000000\" stroke=\"#000000\" points=\"212.266,-184.0819 203.3849,-178.3046 206.7249,-188.3593 212.266,-184.0819\"/>\n",
       "</g>\n",
       "<!-- 6 -->\n",
       "<g id=\"node7\" class=\"node\">\n",
       "<title>6</title>\n",
       "<polygon fill=\"#843de6\" stroke=\"#000000\" points=\"429.4634,-178 270.6255,-178 270.6255,-100 429.4634,-100 429.4634,-178\"/>\n",
       "<text text-anchor=\"middle\" x=\"350.0444\" y=\"-162.8\" font-family=\"Times,serif\" font-size=\"14.00\" fill=\"#000000\">petal length (cm) &lt;= 4.85</text>\n",
       "<text text-anchor=\"middle\" x=\"350.0444\" y=\"-148.8\" font-family=\"Times,serif\" font-size=\"14.00\" fill=\"#000000\">entropy = 0.151</text>\n",
       "<text text-anchor=\"middle\" x=\"350.0444\" y=\"-134.8\" font-family=\"Times,serif\" font-size=\"14.00\" fill=\"#000000\">samples = 46</text>\n",
       "<text text-anchor=\"middle\" x=\"350.0444\" y=\"-120.8\" font-family=\"Times,serif\" font-size=\"14.00\" fill=\"#000000\">value = [0, 1, 45]</text>\n",
       "<text text-anchor=\"middle\" x=\"350.0444\" y=\"-106.8\" font-family=\"Times,serif\" font-size=\"14.00\" fill=\"#000000\">class = virginica</text>\n",
       "</g>\n",
       "<!-- 2&#45;&gt;6 -->\n",
       "<g id=\"edge6\" class=\"edge\">\n",
       "<title>2&#45;&gt;6</title>\n",
       "<path fill=\"none\" stroke=\"#000000\" d=\"M291.6732,-213.7677C298.5956,-204.9007 306.0157,-195.3964 313.1652,-186.2385\"/>\n",
       "<polygon fill=\"#000000\" stroke=\"#000000\" points=\"315.9643,-188.3408 319.3592,-178.3046 310.4466,-184.0332 315.9643,-188.3408\"/>\n",
       "</g>\n",
       "<!-- 4 -->\n",
       "<g id=\"node5\" class=\"node\">\n",
       "<title>4</title>\n",
       "<polygon fill=\"#3de684\" stroke=\"#000000\" points=\"114.1333,-64 -.0445,-64 -.0445,0 114.1333,0 114.1333,-64\"/>\n",
       "<text text-anchor=\"middle\" x=\"57.0444\" y=\"-48.8\" font-family=\"Times,serif\" font-size=\"14.00\" fill=\"#000000\">entropy = 0.146</text>\n",
       "<text text-anchor=\"middle\" x=\"57.0444\" y=\"-34.8\" font-family=\"Times,serif\" font-size=\"14.00\" fill=\"#000000\">samples = 48</text>\n",
       "<text text-anchor=\"middle\" x=\"57.0444\" y=\"-20.8\" font-family=\"Times,serif\" font-size=\"14.00\" fill=\"#000000\">value = [0, 47, 1]</text>\n",
       "<text text-anchor=\"middle\" x=\"57.0444\" y=\"-6.8\" font-family=\"Times,serif\" font-size=\"14.00\" fill=\"#000000\">class = versicolor</text>\n",
       "</g>\n",
       "<!-- 3&#45;&gt;4 -->\n",
       "<g id=\"edge4\" class=\"edge\">\n",
       "<title>3&#45;&gt;4</title>\n",
       "<path fill=\"none\" stroke=\"#000000\" d=\"M130.509,-99.7647C120.4098,-90.4491 109.6357,-80.5109 99.5384,-71.197\"/>\n",
       "<polygon fill=\"#000000\" stroke=\"#000000\" points=\"101.6947,-68.4244 91.9711,-64.2169 96.9486,-73.5697 101.6947,-68.4244\"/>\n",
       "</g>\n",
       "<!-- 5 -->\n",
       "<g id=\"node6\" class=\"node\">\n",
       "<title>5</title>\n",
       "<polygon fill=\"#c09cf2\" stroke=\"#000000\" points=\"239.6672,-64 132.4217,-64 132.4217,0 239.6672,0 239.6672,-64\"/>\n",
       "<text text-anchor=\"middle\" x=\"186.0444\" y=\"-48.8\" font-family=\"Times,serif\" font-size=\"14.00\" fill=\"#000000\">entropy = 0.918</text>\n",
       "<text text-anchor=\"middle\" x=\"186.0444\" y=\"-34.8\" font-family=\"Times,serif\" font-size=\"14.00\" fill=\"#000000\">samples = 6</text>\n",
       "<text text-anchor=\"middle\" x=\"186.0444\" y=\"-20.8\" font-family=\"Times,serif\" font-size=\"14.00\" fill=\"#000000\">value = [0, 2, 4]</text>\n",
       "<text text-anchor=\"middle\" x=\"186.0444\" y=\"-6.8\" font-family=\"Times,serif\" font-size=\"14.00\" fill=\"#000000\">class = virginica</text>\n",
       "</g>\n",
       "<!-- 3&#45;&gt;5 -->\n",
       "<g id=\"edge5\" class=\"edge\">\n",
       "<title>3&#45;&gt;5</title>\n",
       "<path fill=\"none\" stroke=\"#000000\" d=\"M177.8113,-99.7647C178.8211,-91.4537 179.891,-82.6472 180.9136,-74.2305\"/>\n",
       "<polygon fill=\"#000000\" stroke=\"#000000\" points=\"184.3985,-74.566 182.1302,-64.2169 177.4496,-73.7217 184.3985,-74.566\"/>\n",
       "</g>\n",
       "<!-- 7 -->\n",
       "<g id=\"node8\" class=\"node\">\n",
       "<title>7</title>\n",
       "<polygon fill=\"#c09cf2\" stroke=\"#000000\" points=\"390.6672,-64 283.4217,-64 283.4217,0 390.6672,0 390.6672,-64\"/>\n",
       "<text text-anchor=\"middle\" x=\"337.0444\" y=\"-48.8\" font-family=\"Times,serif\" font-size=\"14.00\" fill=\"#000000\">entropy = 0.918</text>\n",
       "<text text-anchor=\"middle\" x=\"337.0444\" y=\"-34.8\" font-family=\"Times,serif\" font-size=\"14.00\" fill=\"#000000\">samples = 3</text>\n",
       "<text text-anchor=\"middle\" x=\"337.0444\" y=\"-20.8\" font-family=\"Times,serif\" font-size=\"14.00\" fill=\"#000000\">value = [0, 1, 2]</text>\n",
       "<text text-anchor=\"middle\" x=\"337.0444\" y=\"-6.8\" font-family=\"Times,serif\" font-size=\"14.00\" fill=\"#000000\">class = virginica</text>\n",
       "</g>\n",
       "<!-- 6&#45;&gt;7 -->\n",
       "<g id=\"edge7\" class=\"edge\">\n",
       "<title>6&#45;&gt;7</title>\n",
       "<path fill=\"none\" stroke=\"#000000\" d=\"M345.2775,-99.7647C344.2678,-91.4537 343.1978,-82.6472 342.1752,-74.2305\"/>\n",
       "<polygon fill=\"#000000\" stroke=\"#000000\" points=\"345.6393,-73.7217 340.9586,-64.2169 338.6904,-74.566 345.6393,-73.7217\"/>\n",
       "</g>\n",
       "<!-- 8 -->\n",
       "<g id=\"node9\" class=\"node\">\n",
       "<title>8</title>\n",
       "<polygon fill=\"#8139e5\" stroke=\"#000000\" points=\"521.0825,-64 409.0064,-64 409.0064,0 521.0825,0 521.0825,-64\"/>\n",
       "<text text-anchor=\"middle\" x=\"465.0444\" y=\"-48.8\" font-family=\"Times,serif\" font-size=\"14.00\" fill=\"#000000\">entropy = 0.0</text>\n",
       "<text text-anchor=\"middle\" x=\"465.0444\" y=\"-34.8\" font-family=\"Times,serif\" font-size=\"14.00\" fill=\"#000000\">samples = 43</text>\n",
       "<text text-anchor=\"middle\" x=\"465.0444\" y=\"-20.8\" font-family=\"Times,serif\" font-size=\"14.00\" fill=\"#000000\">value = [0, 0, 43]</text>\n",
       "<text text-anchor=\"middle\" x=\"465.0444\" y=\"-6.8\" font-family=\"Times,serif\" font-size=\"14.00\" fill=\"#000000\">class = virginica</text>\n",
       "</g>\n",
       "<!-- 6&#45;&gt;8 -->\n",
       "<g id=\"edge8\" class=\"edge\">\n",
       "<title>6&#45;&gt;8</title>\n",
       "<path fill=\"none\" stroke=\"#000000\" d=\"M392.2132,-99.7647C402.2253,-90.4491 412.9065,-80.5109 422.9168,-71.197\"/>\n",
       "<polygon fill=\"#000000\" stroke=\"#000000\" points=\"425.4818,-73.5911 430.4188,-64.2169 420.7135,-68.4663 425.4818,-73.5911\"/>\n",
       "</g>\n",
       "</g>\n",
       "</svg>\n"
      ],
      "text/plain": [
       "<graphviz.files.Source at 0x127efd220>"
      ]
     },
     "execution_count": 8,
     "metadata": {},
     "output_type": "execute_result"
    }
   ],
   "source": [
    "# visualize the decision tree\n",
    "\n",
    "# export it as .dot file, other common parameters include\n",
    "# `rounded` (boolean to round the score on each node)\n",
    "export_graphviz(clf, feature_names = iris.feature_names, filled = True,\n",
    "                class_names = iris.target_names, out_file = 'tree.dot')\n",
    "\n",
    "# read it in and visualize it, or if we wish to\n",
    "# convert the .dot file into other formats, we can do:\n",
    "# import os\n",
    "# os.system('dot -Tpng tree.dot -o tree.jpeg')\n",
    "with open('tree.dot') as f:\n",
    "    dot_graph = f.read()\n",
    "\n",
    "Source(dot_graph)"
   ]
  },
  {
   "cell_type": "markdown",
   "metadata": {},
   "source": [
    "# References"
   ]
  },
  {
   "cell_type": "markdown",
   "metadata": {},
   "source": [
    "\n",
    "- [scikit-learn Documentation: Decision Trees](http://scikit-learn.org/stable/modules/tree.html)\n",
    "- [Blog: The advantages of the different impurity metrics](http://sebastianraschka.com/faq/docs/decision-tree-binary.html)\n",
    "- [Notebook: Cheatsheet for Decision Tree Classification](http://nbviewer.jupyter.org/github/rasbt/pattern_classification/blob/master/machine_learning/decision_trees/decision-tree-cheatsheet.ipynb)\n",
    "- [Github: Minimal and clean examples of machine learning algorithms](https://github.com/rushter/MLAlgorithms/blob/master/mla/ensemble/tree.py)\n",
    "- [Reference code](https://nbviewer.jupyter.org/github/ethen8181/machine-learning/blob/master/trees/decision_tree.ipynb)\n",
    "\n",
""   ]
  },
  {
   "cell_type": "markdown",
   "metadata": {},
   "source": [
    "# Conclusions"
   ]
  },
  {
   "cell_type": "markdown",
   "metadata": {},
   "source": [
    "\n",
    "- Keep in mind that is the implementation of what is called **hard decision tree**.\n",
    "- There is another version informally known as **soft** decision tree.\n",
    "\n",
""   ]
  },
  {
   "cell_type": "code",
   "execution_count": null,
   "metadata": {},
   "outputs": [],
   "source": []
  }
 ],
 "metadata": {
  "anaconda-cloud": {},
  "kernelspec": {
   "display_name": "trainingAI",
   "language": "python",
   "name": "trainingai"
  },
  "language_info": {
   "codemirror_mode": {
    "name": "ipython",
    "version": 3
   },
   "file_extension": ".py",
   "mimetype": "text/x-python",
   "name": "python",
   "nbconvert_exporter": "python",
   "pygments_lexer": "ipython3",
   "version": "3.8.5"
  },
  "toc": {
   "nav_menu": {
    "height": "198px",
    "width": "252px"
   },
   "number_sections": true,
   "sideBar": true,
   "skip_h1_title": false,
   "title_cell": "Table of Contents",
   "title_sidebar": "Contents",
   "toc_cell": true,
   "toc_position": {},
   "toc_section_display": "block",
   "toc_window_display": true
  },
  "varInspector": {
   "cols": {
    "lenName": 16,
    "lenType": 16,
    "lenVar": 40
   },
   "kernels_config": {
    "python": {
     "delete_cmd_postfix": "",
     "delete_cmd_prefix": "del ",
     "library": "var_list.py",
     "varRefreshCmd": "print(var_dic_list())"
    },
    "r": {
     "delete_cmd_postfix": ") ",
     "delete_cmd_prefix": "rm(",
     "library": "var_list.r",
     "varRefreshCmd": "cat(var_dic_list()) "
    }
   },
   "types_to_exclude": [
    "module",
    "function",
    "builtin_function_or_method",
    "instance",
    "_Feature"
   ],
   "window_display": false
  }
 },
 "nbformat": 4,
 "nbformat_minor": 1
}
