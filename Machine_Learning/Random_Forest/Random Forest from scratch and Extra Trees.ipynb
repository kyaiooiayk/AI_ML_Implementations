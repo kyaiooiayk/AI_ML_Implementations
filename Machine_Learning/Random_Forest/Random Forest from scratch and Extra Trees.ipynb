{
 "cells": [
  {
   "cell_type": "code",
   "execution_count": 1,
   "metadata": {},
   "outputs": [],
   "source": [
    "# [Reference code] https://nbviewer.jupyter.org/github/ethen8181/machine-learning/blob/master/trees/random_forest.ipynb"
   ]
  },
  {
   "cell_type": "markdown",
   "metadata": {},
   "source": [
    "# Import modules"
   ]
  },
  {
   "cell_type": "code",
   "execution_count": 2,
   "metadata": {},
   "outputs": [],
   "source": [
    "import numpy as np\n",
    "import pandas as pd\n",
    "import matplotlib.pyplot as plt\n",
    "from sklearn.datasets import load_iris\n",
    "from sklearn.metrics import mean_squared_error\n",
    "from sklearn.model_selection import train_test_split, GridSearchCV\n",
    "from sklearn.tree import DecisionTreeRegressor, DecisionTreeClassifier\n",
    "from sklearn.ensemble import RandomForestRegressor, ExtraTreesRegressor"
   ]
  },
  {
   "cell_type": "markdown",
   "metadata": {},
   "source": [
    "# Ensemble Trees"
   ]
  },
  {
   "cell_type": "markdown",
   "metadata": {},
   "source": [
    "Some of the materials builds on top of the [previous documentation/implementation on decision trees](http://nbviewer.jupyter.org/github/ethen8181/machine-learning/blob/master/trees/decision_tree.ipynb), thus it might be best to walk through that one first.\n",
    "\n",
    "Ensembling is a very popular method for improving the predictive performance of machine learning models. Let's pretend that instead of building a single model to solve a binary classification problem, you created **five independent models**, and each model was correct about 70% of the time. If you combined these models into an \"ensemble\" and used their majority vote as a prediction, how often would the ensemble be correct?"
   ]
  },
  {
   "cell_type": "code",
   "execution_count": 3,
   "metadata": {},
   "outputs": [
    {
     "name": "stdout",
     "output_type": "stream",
     "text": [
      "0.713\n",
      "0.665\n",
      "0.717\n",
      "0.712\n",
      "0.687\n"
     ]
    }
   ],
   "source": [
    "# generate 1000 random numbers (between 0 and 1) for each model, \n",
    "# representing 1000 observations\n",
    "np.random.seed(1234)\n",
    "mod1 = np.random.rand(1000)\n",
    "mod2 = np.random.rand(1000)\n",
    "mod3 = np.random.rand(1000)\n",
    "mod4 = np.random.rand(1000)\n",
    "mod5 = np.random.rand(1000)\n",
    "\n",
    "# each model independently predicts 1 (the \"correct response\") \n",
    "# if random number was at least 0.3\n",
    "preds1 = np.where(mod1 > 0.3, 1, 0)\n",
    "preds2 = np.where(mod2 > 0.3, 1, 0)\n",
    "preds3 = np.where(mod3 > 0.3, 1, 0)\n",
    "preds4 = np.where(mod4 > 0.3, 1, 0)\n",
    "preds5 = np.where(mod5 > 0.3, 1, 0)\n",
    "\n",
    "# how accurate was each individual model?\n",
    "print(preds1.mean())\n",
    "print(preds2.mean())\n",
    "print(preds3.mean())\n",
    "print(preds4.mean())\n",
    "print(preds5.mean()) "
   ]
  },
  {
   "cell_type": "code",
   "execution_count": 4,
   "metadata": {},
   "outputs": [
    {
     "name": "stdout",
     "output_type": "stream",
     "text": [
      "0.841\n"
     ]
    }
   ],
   "source": [
    "# average the predictions, and then round to 0 or 1\n",
    "# you can also do a weighted average, as long as the weight adds up to 1 \n",
    "ensemble_preds = np.round((preds1 + preds2 + preds3 + preds4 + preds5) / 5).astype(int)\n",
    "\n",
    "# how accurate was the ensemble?\n",
    "print(ensemble_preds.mean())"
   ]
  },
  {
   "cell_type": "markdown",
   "metadata": {},
   "source": [
    "## Bagging"
   ]
  },
  {
   "cell_type": "markdown",
   "metadata": {},
   "source": [
    "The primary weakness of decision trees is that they don't tend to have the best predictive accuracy and the result can be very unstable. This is partially due to the fact that we were using greedy algorithm to choose the rule/feature to split the tree. Hence a small variations in the data might result in a completely different tree being generated. Fortunately, this problem can be mitigated by training an ensemble of decision trees and use these trees to form a \"forest\".\n",
    "\n",
    "This first idea we'll introduce is **Bagging**. **Bagging**, short for **bootstrap aggregation** is a general procedure for reducing the variance of a machine learning algorithm, although it can used with any type of method, it is most commonly applied to tree-based models. The way it works is: \n",
    "\n",
    "Given a training set $X = x_1, ..., x_n$ with responses $Y = y_1, ..., y_n$, bagging repeatedly ($B$ times) selects a random sample with replacement (a.k.a bootstrap sample) of the training set and fits trees to these newly generated samples:\n",
    "\n",
    "For $b = 1, ..., B$:\n",
    " \n",
    "1. Sample, with replacement, $n$ training examples from $X$, $Y$; call these $X_b$, $Y_b$. Note that the bootstrap sample should be the same size as the original training set\n",
    "2. Train a tree, $f_b$, on $X_b$, $Y_b$. For these individual tree, we should allow them to grow deeper (increase the max_depth parameter) so that they have low bias/high variance\n",
    "\n",
    "After training, predictions for unseen samples $x'$ can be made by averaging the predictions from all the individual regression trees on $x'$:\n",
    "\n",
    "\n",
    "$$\n",
    "\\begin{align}\n",
    "f' = \\frac {1}{B}\\sum _{b=1}^{B}{f}_{b}(x')\n",
    "\\end{align}\n",
    "$$\n",
    "\n",
    "Or by taking the majority vote in the case of classification trees. If you are wondering why bootstrapping is a good idea, the rationale is:\n",
    "\n",
    "We wish to ask a question of a population but we can't. Instead, we take a sample and ask the question to it instead. Now, how confident we should be that the sample answer is close to the population answer obviously depends on the structure of population. One way we might learn about this is to take samples from the population again and again, ask them the question, and see how variable the sample answers tended to be. But often times this isn't possible (we wouldn't relaunch the Titanic and crash it into another iceberg), thus we can use the information in the sample we actually have to learn about it.\n",
    "\n",
    "This is a reasonable thing to do because not only is the sample you have the best and the only information you have about what the population actually looks like, but also because most samples will, if they're randomly chosen, look quite like the population they came from. In the end, sampling with replacement is just a convenient way to treat the sample like it's a population and to sample from it in a way that reflects its shape."
   ]
  },
  {
   "cell_type": "markdown",
   "metadata": {},
   "source": [
    "## Random Forest\n",
    "\n",
    "Random Forest is very similar to bagged trees. Exactly like bagging, we create an ensemble of decision trees using bootstrapped samples of the training set. When building each tree, however, each time a split is considered, a random sample of $m$ features is chosen as split candidates from the full set of $p$ features. The split is only allowed to use one of those $m$ features to generate the best rule/feature to split on. \n",
    "\n",
    "- For **classification**, $m$ is typically chosen to be, $\\sqrt{p}$, the square root of $p$.\n",
    "- For **regression**, $m$ is typically chosen to be somewhere between $p/3$ and $p$.\n",
    "\n",
    "The whole point of choosing a new random sample of features for every single tree at every single split is to correct for decision trees' habit of overfitting to their training set. Suppose there is one very strong feature in the data set, when using bagged trees, most of the trees will use that feature as the top split, resulting in an ensemble of similar trees that are highly correlated. By randomly leaving out candidate features from each split, Random Forest \"decorrelates\" the trees, such that the averaging process can further reduce the variance of the resulting model."
   ]
  },
  {
   "cell_type": "markdown",
   "metadata": {},
   "source": [
    "## Implementation"
   ]
  },
  {
   "cell_type": "markdown",
   "metadata": {},
   "source": [
    "Here, we will use the [Wine Quality Data Set](https://archive.ics.uci.edu/ml/datasets/Wine+Quality) to test our implementation. This [link](https://archive.ics.uci.edu/ml/machine-learning-databases/wine-quality/winequality-white.csv) should download the .csv file. The task is to predict the quality of the wine (a scale of 1 ~ 10) given some of its features. We'll build three types of regression model, decision tree, bagged decision tree and random forest on the training set and compare the result on the test set."
   ]
  },
  {
   "cell_type": "code",
   "execution_count": 5,
   "metadata": {},
   "outputs": [
    {
     "name": "stdout",
     "output_type": "stream",
     "text": [
      "dimension of the dataset:  (4898, 12)\n"
     ]
    },
    {
     "data": {
      "text/html": [
       "<div>\n",
       "<style scoped>\n",
       "    .dataframe tbody tr th:only-of-type {\n",
       "        vertical-align: middle;\n",
       "    }\n",
       "\n",
       "    .dataframe tbody tr th {\n",
       "        vertical-align: top;\n",
       "    }\n",
       "\n",
       "    .dataframe thead th {\n",
       "        text-align: right;\n",
       "    }\n",
       "</style>\n",
       "<table border=\"1\" class=\"dataframe\">\n",
       "  <thead>\n",
       "    <tr style=\"text-align: right;\">\n",
       "      <th></th>\n",
       "      <th>fixed acidity</th>\n",
       "      <th>volatile acidity</th>\n",
       "      <th>citric acid</th>\n",
       "      <th>residual sugar</th>\n",
       "      <th>chlorides</th>\n",
       "      <th>free sulfur dioxide</th>\n",
       "      <th>total sulfur dioxide</th>\n",
       "      <th>density</th>\n",
       "      <th>pH</th>\n",
       "      <th>sulphates</th>\n",
       "      <th>alcohol</th>\n",
       "      <th>quality</th>\n",
       "    </tr>\n",
       "  </thead>\n",
       "  <tbody>\n",
       "    <tr>\n",
       "      <th>0</th>\n",
       "      <td>7.0</td>\n",
       "      <td>0.27</td>\n",
       "      <td>0.36</td>\n",
       "      <td>20.7</td>\n",
       "      <td>0.045</td>\n",
       "      <td>45.0</td>\n",
       "      <td>170.0</td>\n",
       "      <td>1.0010</td>\n",
       "      <td>3.00</td>\n",
       "      <td>0.45</td>\n",
       "      <td>8.8</td>\n",
       "      <td>6</td>\n",
       "    </tr>\n",
       "    <tr>\n",
       "      <th>1</th>\n",
       "      <td>6.3</td>\n",
       "      <td>0.30</td>\n",
       "      <td>0.34</td>\n",
       "      <td>1.6</td>\n",
       "      <td>0.049</td>\n",
       "      <td>14.0</td>\n",
       "      <td>132.0</td>\n",
       "      <td>0.9940</td>\n",
       "      <td>3.30</td>\n",
       "      <td>0.49</td>\n",
       "      <td>9.5</td>\n",
       "      <td>6</td>\n",
       "    </tr>\n",
       "    <tr>\n",
       "      <th>2</th>\n",
       "      <td>8.1</td>\n",
       "      <td>0.28</td>\n",
       "      <td>0.40</td>\n",
       "      <td>6.9</td>\n",
       "      <td>0.050</td>\n",
       "      <td>30.0</td>\n",
       "      <td>97.0</td>\n",
       "      <td>0.9951</td>\n",
       "      <td>3.26</td>\n",
       "      <td>0.44</td>\n",
       "      <td>10.1</td>\n",
       "      <td>6</td>\n",
       "    </tr>\n",
       "    <tr>\n",
       "      <th>3</th>\n",
       "      <td>7.2</td>\n",
       "      <td>0.23</td>\n",
       "      <td>0.32</td>\n",
       "      <td>8.5</td>\n",
       "      <td>0.058</td>\n",
       "      <td>47.0</td>\n",
       "      <td>186.0</td>\n",
       "      <td>0.9956</td>\n",
       "      <td>3.19</td>\n",
       "      <td>0.40</td>\n",
       "      <td>9.9</td>\n",
       "      <td>6</td>\n",
       "    </tr>\n",
       "    <tr>\n",
       "      <th>4</th>\n",
       "      <td>7.2</td>\n",
       "      <td>0.23</td>\n",
       "      <td>0.32</td>\n",
       "      <td>8.5</td>\n",
       "      <td>0.058</td>\n",
       "      <td>47.0</td>\n",
       "      <td>186.0</td>\n",
       "      <td>0.9956</td>\n",
       "      <td>3.19</td>\n",
       "      <td>0.40</td>\n",
       "      <td>9.9</td>\n",
       "      <td>6</td>\n",
       "    </tr>\n",
       "  </tbody>\n",
       "</table>\n",
       "</div>"
      ],
      "text/plain": [
       "   fixed acidity  volatile acidity  citric acid  residual sugar  chlorides  \\\n",
       "0            7.0              0.27         0.36            20.7      0.045   \n",
       "1            6.3              0.30         0.34             1.6      0.049   \n",
       "2            8.1              0.28         0.40             6.9      0.050   \n",
       "3            7.2              0.23         0.32             8.5      0.058   \n",
       "4            7.2              0.23         0.32             8.5      0.058   \n",
       "\n",
       "   free sulfur dioxide  total sulfur dioxide  density    pH  sulphates  \\\n",
       "0                 45.0                 170.0   1.0010  3.00       0.45   \n",
       "1                 14.0                 132.0   0.9940  3.30       0.49   \n",
       "2                 30.0                  97.0   0.9951  3.26       0.44   \n",
       "3                 47.0                 186.0   0.9956  3.19       0.40   \n",
       "4                 47.0                 186.0   0.9956  3.19       0.40   \n",
       "\n",
       "   alcohol  quality  \n",
       "0      8.8        6  \n",
       "1      9.5        6  \n",
       "2     10.1        6  \n",
       "3      9.9        6  \n",
       "4      9.9        6  "
      ]
     },
     "execution_count": 5,
     "metadata": {},
     "output_type": "execute_result"
    }
   ],
   "source": [
    "wine = pd.read_csv('../../DATASETS/winequality-white.csv', sep = ';')\n",
    "\n",
    "# train/test split the features and response column\n",
    "y = wine['quality'].values\n",
    "X = wine.drop('quality', axis = 1).values\n",
    "X_train, X_test, y_train, y_test = train_test_split(\n",
    "    X, y, test_size = 0.2, random_state = 1234)\n",
    "\n",
    "print('dimension of the dataset: ', wine.shape)\n",
    "wine.head()"
   ]
  },
  {
   "cell_type": "code",
   "execution_count": 6,
   "metadata": {},
   "outputs": [
    {
     "name": "stdout",
     "output_type": "stream",
     "text": [
      "original: [ 1  2  3  4  5  6  7  8  9 10 11 12 13 14 15 16 17 18 19 20]\n",
      "bootstrap:  [ 6 12 13  9 10 12  6 16  1 17  2 13  8 14  7 19  6 19 12 11]\n"
     ]
    }
   ],
   "source": [
    "# this cell simply demonstrates how to create boostrap samples\n",
    "# we create an array of numbers from 1 to 20\n",
    "# create the boostrap sample on top of that\n",
    "np.random.seed(1)\n",
    "nums = np.arange(1, 21)\n",
    "print('original:', nums)\n",
    "print('bootstrap: ', np.random.choice(nums, size = 20, replace = True))"
   ]
  },
  {
   "cell_type": "code",
   "execution_count": 7,
   "metadata": {},
   "outputs": [],
   "source": [
    "class RandomForest:\n",
    "    \"\"\"\n",
    "    Regression random forest using scikit learn's \n",
    "    decision tree as the base tree\n",
    "    \n",
    "    Parameters\n",
    "    ----------\n",
    "    n_estimators: int \n",
    "        the number of trees that you're going built\n",
    "        on the bagged sample (you can even shutoff\n",
    "        the bagging procedure for some packages)\n",
    "    \n",
    "    max_features: int \n",
    "        the number of features that you allow\n",
    "        when deciding which feature to split on \n",
    "    \n",
    "    all the other parameters for a decision tree like\n",
    "    max_depth or min_sample_split also applies to Random Forest, \n",
    "    it is just not used here as that is more\n",
    "    related to a single decision tree\n",
    "    \"\"\"    \n",
    "\n",
    "    def __init__(self, n_estimators, max_features):\n",
    "        self.n_estimators = n_estimators\n",
    "        self.max_features = max_features\n",
    "        \n",
    "    def fit(self, X, y):\n",
    "        # for each base-tree models:\n",
    "        # 1. draw bootstrap samples from the original data\n",
    "        # 2. train the tree model on that bootstrap sample, and\n",
    "        #    during training, randomly select a number of features to \n",
    "        #    split on each node\n",
    "        self.estimators = []\n",
    "        for i in range(self.n_estimators):\n",
    "            boot = np.random.choice(y.shape[0], size = y.shape[0], replace = True)\n",
    "            X_boot, y_boot = X[boot], y[boot]\n",
    "            tree = DecisionTreeRegressor(max_features = self.max_features)\n",
    "            tree.fit(X_boot, y_boot)\n",
    "            self.estimators.append(tree)\n",
    "            \n",
    "        return self\n",
    "\n",
    "    def predict(self, X):\n",
    "        # for the prediction, we average the\n",
    "        # predictions made by each of the bagged tree\n",
    "        pred = np.empty((X.shape[0], self.n_estimators))\n",
    "        for i, tree in enumerate(self.estimators):\n",
    "            pred[:, i] = tree.predict(X)\n",
    "            \n",
    "        pred = np.mean(pred, axis = 1)\n",
    "        return pred"
   ]
  },
  {
   "cell_type": "code",
   "execution_count": 8,
   "metadata": {},
   "outputs": [
    {
     "name": "stdout",
     "output_type": "stream",
     "text": [
      "tree:  0.8\n",
      "bagged tree:  0.4044134693877551\n",
      "random forest:  0.3894461224489796\n",
      "random forest library:  0.3991448979591837\n"
     ]
    }
   ],
   "source": [
    "# compare the results between a single decision tree,\n",
    "# bagging and random forest, the lower the mean square\n",
    "# error, the better\n",
    "tree = DecisionTreeRegressor()\n",
    "tree.fit(X_train, y_train)\n",
    "tree_y_pred = tree.predict(X_test)\n",
    "print('tree: ', mean_squared_error(y_test, tree_y_pred))\n",
    "\n",
    "# bagged decision tree\n",
    "# max_feature = None simply uses all features\n",
    "bag = RandomForest(n_estimators = 50, max_features = None)\n",
    "bag.fit(X_train, y_train)\n",
    "bag_y_pred = bag.predict(X_test)\n",
    "print('bagged tree: ', mean_squared_error(y_test, bag_y_pred))\n",
    "\n",
    "# random forest using a random one third of the features at every split\n",
    "rf = RandomForest(n_estimators = 50, max_features = 1 / 3)\n",
    "rf.fit(X_train, y_train)\n",
    "rf_y_pred = rf.predict(X_test)\n",
    "print('random forest: ',  mean_squared_error(y_test, rf_y_pred))\n",
    "\n",
    "# use library to confirm results are comparable\n",
    "rf_reg = RandomForestRegressor(n_estimators = 50, max_features = 1 / 3)\n",
    "rf_reg.fit(X_train, y_train)\n",
    "rf_reg_y_pred = rf_reg.predict(X_test)\n",
    "print('random forest library: ', mean_squared_error(y_test, rf_reg_y_pred))"
   ]
  },
  {
   "cell_type": "markdown",
   "metadata": {},
   "source": [
    "## Feature Importance"
   ]
  },
  {
   "cell_type": "markdown",
   "metadata": {},
   "source": [
    "When using Bagging with decision tree or using Random Forest, we can increase the predictive accuracy of individual tree. These methods, however, do decrease model interpretability, because it is no longer possible to visualize all the trees that are built to form the \"forest\". Fortunately, we can still obtain an overall summary of feature importance from these models. The way feature importance works is as follows (there are many ways to do it, this is the implementation that scikit-learn uses):\n",
    "\n",
    "We first compute the feature importance values of a single tree:\n",
    "\n",
    "- We can initialize an array `feature_importances` of all zeros with size `n_features`\n",
    "- We start building the tree and for each internal node that splits on feature $i$ we compute the information gain (error reduction) of that node multiplied by the proportion of samples that were routed to the node and add this quantity to `feature_importances[i]`\n",
    "\n",
    "The information gain (error reduction) depends on the impurity criterion that you use (e.g. Gini, Entropy for classification, MSE for regression). Its the impurity of the set of examples that gets routed to the internal node minus the sum of the impurities of the two partitions created by the split.\n",
    "\n",
    "Now, recall that these Ensemble Tree models simply consists of a bunch of individual trees, hence after computing the `feature_importance` values across all individual trees, we sum them up and take the average across all of them (normalize the values to sum up to 1 if necessary). \n",
    "\n",
    "Building on top of the [previous documentation/implementation on decision trees](http://nbviewer.jupyter.org/github/ethen8181/machine-learning/blob/master/trees/decision_tree.ipynb), we add the code to compute the feature importance. The code is not shown here, but can be obtained [here](https://github.com/ethen8181/machine-learning/blob/master/trees/tree.py) for those that are interested in the implementation."
   ]
  },
  {
   "cell_type": "code",
   "execution_count": 9,
   "metadata": {},
   "outputs": [
    {
     "name": "stdout",
     "output_type": "stream",
     "text": [
      "[0.         0.         0.68976981 0.31023019]\n",
      "[0.         0.         0.07060267 0.92939733]\n"
     ]
    }
   ],
   "source": [
    "from tree import Tree\n",
    "\n",
    "\n",
    "# load a sample dataset\n",
    "iris = load_iris()\n",
    "iris_X = iris.data\n",
    "iris_y = iris.target\n",
    "\n",
    "# train model and print the feature importance\n",
    "tree = Tree()\n",
    "tree.fit(iris_X, iris_y)\n",
    "print(tree.feature_importance)\n",
    "\n",
    "# use library to confirm result\n",
    "# note that the result might not always be the same\n",
    "# because of decision tree's high variability\n",
    "clf = DecisionTreeClassifier(criterion = 'entropy', min_samples_split = 10, max_depth = 3)\n",
    "clf.fit(iris_X, iris_y)\n",
    "print(clf.feature_importances_)"
   ]
  },
  {
   "cell_type": "markdown",
   "metadata": {},
   "source": [
    "For ensemble tree, we simply sum all the feauture importance up and take the average (normalize it to sum up to 1 if necessary). Thus, we will not go through the process of building that from scratch, we'll simply visualize the feature importance of the regression Random Forest that we've previously trained on the wine dataset."
   ]
  },
  {
   "cell_type": "code",
   "execution_count": 10,
   "metadata": {
    "scrolled": true
   },
   "outputs": [],
   "source": [
    "def vis_importance(estimator, feature_names, threshold = 0.05):\n",
    "    \"\"\"\n",
    "    Visualize the relative importance of predictors.\n",
    "\n",
    "    Parameters\n",
    "    ----------\n",
    "    estimator : sklearn-like ensemble tree model\n",
    "        A tree estimator that contains the attribute\n",
    "        ``feature_importances_``.\n",
    "\n",
    "    feature_names : str 1d array or list[str]\n",
    "        Feature names that corresponds to the\n",
    "        feature importance.\n",
    "\n",
    "    threshold : float, default 0.05\n",
    "        Features that have importance scores lower than this\n",
    "        threshold will not be presented in the plot, this assumes\n",
    "        the feature importance sum up to 1.\n",
    "    \"\"\"\n",
    "    if not hasattr(estimator, 'feature_importances_'):\n",
    "        msg = '{} does not have the feature_importances_ attribute'\n",
    "        raise ValueError(msg.format(estimator.__class__.__name__))\n",
    "\n",
    "    imp = estimator.feature_importances_\n",
    "    feature_names = np.asarray(feature_names)\n",
    "    mask = imp > threshold\n",
    "    importances = imp[mask]\n",
    "    idx = np.argsort(importances)\n",
    "    scores = importances[idx]\n",
    "    names = feature_names[mask]\n",
    "    names = names[idx]\n",
    "\n",
    "    y_pos = np.arange(1, len(scores) + 1)\n",
    "    if hasattr(estimator, 'estimators_'):\n",
    "        # apart from the mean feature importance, for scikit-learn we can access\n",
    "        # each individual tree's feature importance and compute the standard deviation\n",
    "        tree_importances = np.asarray([tree.feature_importances_\n",
    "                                       for tree in estimator.estimators_])\n",
    "        importances_std = np.std(tree_importances[:, mask], axis = 0)\n",
    "        scores_std = importances_std[idx]\n",
    "        plt.barh(y_pos, scores, align = 'center', xerr = scores_std)\n",
    "    else:\n",
    "        plt.barh(y_pos, scores, align = 'center')\n",
    "\n",
    "    plt.yticks(y_pos, names)\n",
    "    plt.xlabel('Importance')\n",
    "    plt.title('Feature Importance Plot')"
   ]
  },
  {
   "cell_type": "code",
   "execution_count": 11,
   "metadata": {},
   "outputs": [
    {
     "data": {
      "image/png": "[encoded data removed]",
      "text/plain": [
       "<Figure size 576x432 with 1 Axes>"
      ]
     },
     "metadata": {
      "needs_background": "light"
     },
     "output_type": "display_data"
    }
   ],
   "source": [
    "# change default figure and font size\n",
    "plt.rcParams['figure.figsize'] = 8, 6 \n",
    "plt.rcParams['font.size'] = 12\n",
    "\n",
    "\n",
    "# visualize the feature importance of every variable\n",
    "vis_importance(rf_reg, wine.columns[:-1])"
   ]
  },
  {
   "cell_type": "markdown",
   "metadata": {},
   "source": [
    "**Caveat:**\n",
    "\n",
    "One thing to keep in mind when using the impurity based feature importance ranking is that when the dataset has two (or more) correlated features, then from the model's point of view, any of these correlated features can be used as the predictor, with no preference of one over the others. But once one of them is used, the importance of others is significantly reduced since the impurity they can effectively remove has already been removed by the first feature. As a consequence, they will have a lower reported importance. This is not an issue when we want to use feature selection to reduce overfitting, since it makes sense to remove features that are mostly duplicated by other features. But when we're interpreting the data, it can lead to incorrect conclusions that one of the variables is a strong predictor while the others in the same group are unimportant, while actually they are very close in terms of their relationship with the response variable.\n",
    "\n",
    "The effect of this phenomenon for Random Forest is somewhat reduced thanks to random selection of features at each node creation, but in general the effect is not removed completely. In the following example, we have three correlated variables $X_0$, $X_1$, $X_2$, and no noise in the data, with the output variable being the sum of the three features:"
   ]
  },
  {
   "cell_type": "code",
   "execution_count": 12,
   "metadata": {},
   "outputs": [
    {
     "name": "stdout",
     "output_type": "stream",
     "text": [
      "Scores for X0, X1, X2: [0.298 0.524 0.178]\n"
     ]
    }
   ],
   "source": [
    "size = 10000\n",
    "np.random.seed(10)\n",
    "X_seed = np.random.normal(0, 1, size)\n",
    "X0 = X_seed + np.random.normal(0, 0.1, size)\n",
    "X1 = X_seed + np.random.normal(0, 0.1, size)\n",
    "X2 = X_seed + np.random.normal(0, 0.1, size)\n",
    "X_012 = np.array([ X0, X1, X2 ]).T\n",
    "Y = X0 + X1 + X2\n",
    "\n",
    "rf = RandomForestRegressor(n_estimators = 20, max_features = 2)\n",
    "rf.fit(X_012, Y)\n",
    "print('Scores for X0, X1, X2:', np.round(rf.feature_importances_, 3))"
   ]
  },
  {
   "cell_type": "markdown",
   "metadata": {},
   "source": [
    "When we compute the feature importances, we see that some of the features have higher importance than the others, while their “true” importance should be very similar. One thing to point out though is that the difficulty of interpreting the importance/ranking of correlated variables is not Random Forest specific, but applies to most model based feature selection methods. This is why it often best practice to remove correlated features prior to training the model.\n",
    "\n",
    "**Advantages of Random Forests:**\n",
    "\n",
    "- Require very little feature engineering (e.g. standardization)\n",
    "- Easy to use, as it rarely requires parameter tuning to achieve compelling and robust performance\n",
    "- Provides a more reliable estimate of feature importance compare to other black-box methods (e.g. deep learning, support vector machine)\n",
    "- Performance and computation wise, it is very competitive. Although you can typically find a model that beats Random Forest for any given dataset (typically a deep learning or gradient boosting algorithm), it’s never by much, and it usually takes much longer to train and tune those model"
   ]
  },
  {
   "cell_type": "markdown",
   "metadata": {},
   "source": [
    "## Extra Trees"
   ]
  },
  {
   "cell_type": "markdown",
   "metadata": {},
   "source": [
    "What distinguishes Extra Trees from Random Forest is:\n",
    "\n",
    "- We use the entire training set instead of a bootstrap sample of the training set (but can also be trained on a bootstrapped sample as well if we wish)\n",
    "- Just like Random Forest, when choosing rules/features at a split, a random subset of candidate features is used, but now, instead of looking at all the thresholds to find the best the best split, thresholds (for the split) are chosen completely at random for each candidate feature and the best of these randomly generated thresholds is picked as the splitting rule. We all know that tree-based methods employ a greedy algorithm when choosing the feature to split on. Thus, we can think of this as taking an extra step in trying to migitate this drawback\n",
    "\n",
    "> Based on [Stackoverflow: RandomForestClassifier vs ExtraTreesClassifier in scikit learn](http://stackoverflow.com/questions/22409855/randomforestclassifier-vs-extratreesclassifier-in-scikit-learn?rq=1)\n",
    "> In practice, RFs are often more compact than ETs. ETs are generally cheaper to train from a computational point of view but can grow much bigger. ETs can sometime generalize better than RFs but it's hard to guess when it's the case without trying both first (and tuning n_estimators, max_features and min_samples_split by cross-validated grid search)."
   ]
  },
  {
   "cell_type": "code",
   "execution_count": 13,
   "metadata": {},
   "outputs": [
    {
     "data": {
      "image/png": "[encoded data removed]",
      "text/plain": [
       "<Figure size 576x432 with 1 Axes>"
      ]
     },
     "metadata": {
      "needs_background": "light"
     },
     "output_type": "display_data"
    }
   ],
   "source": [
    "# grid search on a range of max features and compare \n",
    "# the performance between Extra Trees and Random Forest\n",
    "param_name = 'max_features'\n",
    "max_features_options = np.arange(4, 10)\n",
    "fit_param = {param_name: max_features_options}\n",
    "\n",
    "rf_reg = RandomForestRegressor(n_estimators = 30)\n",
    "et_reg = ExtraTreesRegressor(n_estimators = 30)\n",
    "gs_rf = GridSearchCV(rf_reg, fit_param, n_jobs = -1)\n",
    "gs_et = GridSearchCV(et_reg, fit_param, n_jobs = -1)\n",
    "gs_rf.fit(X_train, y_train)\n",
    "gs_et.fit(X_train, y_train)\n",
    "\n",
    "# visualize the performance on the cross validation test score\n",
    "gs_rf_mean_score = gs_rf.cv_results_['mean_test_score']\n",
    "gs_et_mean_score = gs_et.cv_results_['mean_test_score']\n",
    "mean_scores = [gs_rf_mean_score, gs_et_mean_score]\n",
    "labels = ['RF', 'ET']\n",
    "\n",
    "for score, label in zip(mean_scores, labels):\n",
    "    plt.plot(max_features_options, score, label = label)\n",
    "\n",
    "plt.legend()\n",
    "plt.ylabel('MSE')\n",
    "plt.xlabel(param_name)\n",
    "plt.xlim( np.min(max_features_options), np.max(max_features_options) )\n",
    "plt.show()"
   ]
  },
  {
   "cell_type": "markdown",
   "metadata": {},
   "source": [
    "It is not always the case that Random Forest will outperform Extra Trees making it a method that's worth trying. As for interpretation, Extra Trees is simply another kind of Ensemble Tree method, hence we can still access the `feature_importance_` attribute to see which predictors were contributing a lot to explaining the response."
   ]
  },
  {
   "cell_type": "markdown",
   "metadata": {},
   "source": [
    "# Reference"
   ]
  },
  {
   "cell_type": "markdown",
   "metadata": {},
   "source": [
    "- [Notebook: Ensembling](http://nbviewer.jupyter.org/github/justmarkham/DAT8/blob/master/notebooks/18_ensembling.ipynb)\n",
    "- [Notebook: useR machine learning tutorial Random Forest](http://nbviewer.jupyter.org/github/ledell/useR-machine-learning-tutorial/blob/master/random-forest.ipynb)\n",
    "- [Blog: Selecting good features – Part III: random forests](http://blog.datadive.net/selecting-good-features-part-iii-random-forests/)\n",
    "- [Blog: The Unreasonable Effectiveness of Random Forests](https://medium.com/rants-on-machine-learning/the-unreasonable-effectiveness-of-random-forests-f33c3ce28883#.pv7i5ien9)\n",
    "- [StackExchange: Explaining to laypeople why bootstrapping works](http://stats.stackexchange.com/questions/26088/explaining-to-laypeople-why-bootstrapping-works/)\n",
    "- [Stackoverflow: RandomForestClassifier vs ExtraTreesClassifier in scikit learn](http://stackoverflow.com/questions/22409855/randomforestclassifier-vs-extratreesclassifier-in-scikit-learn?rq=1)\n",
    "- [Stackoverflow: How are feature_importances in RandomForestClassifier determined?](http://stackoverflow.com/questions/15810339/how-are-feature-importances-in-randomforestclassifier-determined)"
   ]
  }
 ],
 "metadata": {
  "anaconda-cloud": {},
  "kernelspec": {
   "display_name": "trainingAI",
   "language": "python",
   "name": "trainingai"
  },
  "language_info": {
   "codemirror_mode": {
    "name": "ipython",
    "version": 3
   },
   "file_extension": ".py",
   "mimetype": "text/x-python",
   "name": "python",
   "nbconvert_exporter": "python",
   "pygments_lexer": "ipython3",
   "version": "3.8.5"
  },
  "toc": {
   "nav_menu": {
    "height": "145px",
    "width": "252px"
   },
   "number_sections": true,
   "sideBar": true,
   "skip_h1_title": false,
   "title_cell": "Table of Contents",
   "title_sidebar": "Contents",
   "toc_cell": true,
   "toc_position": {},
   "toc_section_display": "block",
   "toc_window_display": true
  },
  "varInspector": {
   "cols": {
    "lenName": 16,
    "lenType": 16,
    "lenVar": 40
   },
   "kernels_config": {
    "python": {
     "delete_cmd_postfix": "",
     "delete_cmd_prefix": "del ",
     "library": "var_list.py",
     "varRefreshCmd": "print(var_dic_list())"
    },
    "r": {
     "delete_cmd_postfix": ") ",
     "delete_cmd_prefix": "rm(",
     "library": "var_list.r",
     "varRefreshCmd": "cat(var_dic_list()) "
    }
   },
   "types_to_exclude": [
    "module",
    "function",
    "builtin_function_or_method",
    "instance",
    "_Feature"
   ],
   "window_display": false
  }
 },
 "nbformat": 4,
 "nbformat_minor": 1
}
