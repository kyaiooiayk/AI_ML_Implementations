{
 "cells": [
  {
   "cell_type": "markdown",
   "metadata": {},
   "source": [
    "# Introduction"
   ]
  },
  {
   "cell_type": "markdown",
   "metadata": {},
   "source": [
    "<div class=\"alert alert-block alert-warning\">\n",
    "<font color=black>\n",
    "\n",
    "**What?** PDP (implementation from scratch) - model agnostic approach for directional feature influence\n",
    "\n",
    "</font>\n",
    "</div>"
   ]
  },
  {
   "cell_type": "markdown",
   "metadata": {},
   "source": [
    "# Import modules"
   ]
  },
  {
   "cell_type": "code",
   "execution_count": 2,
   "metadata": {},
   "outputs": [],
   "source": [
    "import numpy as np\n",
    "import pandas as pd\n",
    "import matplotlib.pyplot as plt\n",
    "from pathlib import Path\n",
    "from sklearn.ensemble import RandomForestClassifier\n",
    "from sklearn.model_selection import train_test_split\n",
    "from math import ceil\n",
    "from joblib import Parallel, delayed\n",
    "from matplotlib.gridspec import GridSpec"
   ]
  },
  {
   "cell_type": "markdown",
   "metadata": {},
   "source": [
    "# PDP = Partial Dependence Plot"
   ]
  },
  {
   "cell_type": "markdown",
   "metadata": {},
   "source": [
    "<div class=\"alert alert-block alert-info\">\n",
    "<font color=black><br>\n",
    "\n",
    "- While with tree-based method (e.g. random forest) all we get is the feature importance. \n",
    "- This tells us which feature is significantly influencing the outcome based on the importance calculation\n",
    "- It does **not** inform us in which **direction** is the predictor influencing outcome.\n",
    "- Partial dependence plot (PDP), a model agnostic technique that gives us an **approximate directional** influence.\n",
    "- Directionality here means whether it is a positive or negative correlation.\n",
    "\n",
    "<br></font>\n",
    "</div>"
   ]
  },
  {
   "cell_type": "markdown",
   "metadata": {},
   "source": [
    "# ICE = Individual Conditional Expectation Plot"
   ]
  },
  {
   "cell_type": "markdown",
   "metadata": {},
   "source": [
    "<div class=\"alert alert-block alert-info\">\n",
    "<font color=black><br>\n",
    "\n",
    "- As an extension of a PDP, ICE plot visualizes the relationship between a feature and the predicted responses for each observation. \n",
    "- While a PDP visualizes the averaged relationship between features and predicted responses, a set of ICE plots disaggregates the averaged information and visualizes an individual dependence for each observation. \n",
    "- Hence, instead of only plotting out the average predictions, ICEbox displays all individual lines. (three lines in total in this case).\n",
    "\n",
    "<br></font>\n",
    "</div>"
   ]
  },
  {
   "cell_type": "markdown",
   "metadata": {},
   "source": [
    "# Load the dataset"
   ]
  },
  {
   "cell_type": "code",
   "execution_count": 3,
   "metadata": {},
   "outputs": [
    {
     "name": "stdout",
     "output_type": "stream",
     "text": [
      "dimension:  (891, 12)\n",
      "features:  Index(['PassengerId', 'Survived', 'Pclass', 'Name', 'Sex', 'Age', 'SibSp',\n",
      "       'Parch', 'Ticket', 'Fare', 'Cabin', 'Embarked'],\n",
      "      dtype='object')\n"
     ]
    },
    {
     "data": {
      "text/html": [
       "<div>\n",
       "<style scoped>\n",
       "    .dataframe tbody tr th:only-of-type {\n",
       "        vertical-align: middle;\n",
       "    }\n",
       "\n",
       "    .dataframe tbody tr th {\n",
       "        vertical-align: top;\n",
       "    }\n",
       "\n",
       "    .dataframe thead th {\n",
       "        text-align: right;\n",
       "    }\n",
       "</style>\n",
       "<table border=\"1\" class=\"dataframe\">\n",
       "  <thead>\n",
       "    <tr style=\"text-align: right;\">\n",
       "      <th></th>\n",
       "      <th>PassengerId</th>\n",
       "      <th>Survived</th>\n",
       "      <th>Pclass</th>\n",
       "      <th>Name</th>\n",
       "      <th>Sex</th>\n",
       "      <th>Age</th>\n",
       "      <th>SibSp</th>\n",
       "      <th>Parch</th>\n",
       "      <th>Ticket</th>\n",
       "      <th>Fare</th>\n",
       "      <th>Cabin</th>\n",
       "      <th>Embarked</th>\n",
       "    </tr>\n",
       "  </thead>\n",
       "  <tbody>\n",
       "    <tr>\n",
       "      <th>0</th>\n",
       "      <td>1</td>\n",
       "      <td>0</td>\n",
       "      <td>3</td>\n",
       "      <td>Braund, Mr. Owen Harris</td>\n",
       "      <td>male</td>\n",
       "      <td>22.0</td>\n",
       "      <td>1</td>\n",
       "      <td>0</td>\n",
       "      <td>A/5 21171</td>\n",
       "      <td>7.2500</td>\n",
       "      <td>NaN</td>\n",
       "      <td>S</td>\n",
       "    </tr>\n",
       "    <tr>\n",
       "      <th>1</th>\n",
       "      <td>2</td>\n",
       "      <td>1</td>\n",
       "      <td>1</td>\n",
       "      <td>Cumings, Mrs. John Bradley (Florence Briggs Th...</td>\n",
       "      <td>female</td>\n",
       "      <td>38.0</td>\n",
       "      <td>1</td>\n",
       "      <td>0</td>\n",
       "      <td>PC 17599</td>\n",
       "      <td>71.2833</td>\n",
       "      <td>C85</td>\n",
       "      <td>C</td>\n",
       "    </tr>\n",
       "    <tr>\n",
       "      <th>2</th>\n",
       "      <td>3</td>\n",
       "      <td>1</td>\n",
       "      <td>3</td>\n",
       "      <td>Heikkinen, Miss. Laina</td>\n",
       "      <td>female</td>\n",
       "      <td>26.0</td>\n",
       "      <td>0</td>\n",
       "      <td>0</td>\n",
       "      <td>STON/O2. 3101282</td>\n",
       "      <td>7.9250</td>\n",
       "      <td>NaN</td>\n",
       "      <td>S</td>\n",
       "    </tr>\n",
       "    <tr>\n",
       "      <th>3</th>\n",
       "      <td>4</td>\n",
       "      <td>1</td>\n",
       "      <td>1</td>\n",
       "      <td>Futrelle, Mrs. Jacques Heath (Lily May Peel)</td>\n",
       "      <td>female</td>\n",
       "      <td>35.0</td>\n",
       "      <td>1</td>\n",
       "      <td>0</td>\n",
       "      <td>113803</td>\n",
       "      <td>53.1000</td>\n",
       "      <td>C123</td>\n",
       "      <td>S</td>\n",
       "    </tr>\n",
       "    <tr>\n",
       "      <th>4</th>\n",
       "      <td>5</td>\n",
       "      <td>0</td>\n",
       "      <td>3</td>\n",
       "      <td>Allen, Mr. William Henry</td>\n",
       "      <td>male</td>\n",
       "      <td>35.0</td>\n",
       "      <td>0</td>\n",
       "      <td>0</td>\n",
       "      <td>373450</td>\n",
       "      <td>8.0500</td>\n",
       "      <td>NaN</td>\n",
       "      <td>S</td>\n",
       "    </tr>\n",
       "  </tbody>\n",
       "</table>\n",
       "</div>"
      ],
      "text/plain": [
       "   PassengerId  Survived  Pclass  \\\n",
       "0            1         0       3   \n",
       "1            2         1       1   \n",
       "2            3         1       3   \n",
       "3            4         1       1   \n",
       "4            5         0       3   \n",
       "\n",
       "                                                Name     Sex   Age  SibSp  \\\n",
       "0                            Braund, Mr. Owen Harris    male  22.0      1   \n",
       "1  Cumings, Mrs. John Bradley (Florence Briggs Th...  female  38.0      1   \n",
       "2                             Heikkinen, Miss. Laina  female  26.0      0   \n",
       "3       Futrelle, Mrs. Jacques Heath (Lily May Peel)  female  35.0      1   \n",
       "4                           Allen, Mr. William Henry    male  35.0      0   \n",
       "\n",
       "   Parch            Ticket     Fare Cabin Embarked  \n",
       "0      0         A/5 21171   7.2500   NaN        S  \n",
       "1      0          PC 17599  71.2833   C85        C  \n",
       "2      0  STON/O2. 3101282   7.9250   NaN        S  \n",
       "3      0            113803  53.1000  C123        S  \n",
       "4      0            373450   8.0500   NaN        S  "
      ]
     },
     "execution_count": 3,
     "metadata": {},
     "output_type": "execute_result"
    }
   ],
   "source": [
    "data_path = '../DATASETS/titanic/train.csv'\n",
    "data = pd.read_csv(data_path)\n",
    "print('dimension: ', data.shape)\n",
    "print('features: ', data.columns)\n",
    "data.head()"
   ]
  },
  {
   "cell_type": "code",
   "execution_count": 3,
   "metadata": {},
   "outputs": [],
   "source": [
    "# some naive feature engineering\n",
    "data['Age'] = data['Age'].fillna(data['Age'].median())\n",
    "data['Embarked'] = data['Embarked'].fillna('S')\n",
    "data['Sex'] = data['Sex'].apply(lambda x: 1 if x == 'male' else 0)\n",
    "data = pd.get_dummies(data, columns = ['Embarked'])\n",
    "\n",
    "# features/columns that are used\n",
    "label = data['Survived']\n",
    "features = [\n",
    "    'Pclass', 'Sex',\n",
    "    'Age', 'SibSp',\n",
    "    'Parch', 'Fare',\n",
    "    'Embarked_C', 'Embarked_Q', 'Embarked_S']\n",
    "data = data[features]\n",
    "\n",
    "X_train, X_test, y_train, y_test = train_test_split(\n",
    "    data, label, test_size = 0.2, random_state = 1234, stratify = label)"
   ]
  },
  {
   "cell_type": "code",
   "execution_count": 4,
   "metadata": {},
   "outputs": [
    {
     "name": "stdout",
     "output_type": "stream",
     "text": [
      "top 2 important features:\n",
      "Fare\n",
      "Sex\n"
     ]
    }
   ],
   "source": [
    "# fit a baseline random forest model and show its top 2 most important features\n",
    "rf = RandomForestClassifier(n_estimators = 50, random_state = 1234)\n",
    "rf.fit(X_train, y_train)\n",
    "\n",
    "print('top 2 important features:')\n",
    "imp_index = np.argsort(rf.feature_importances_)\n",
    "print(features[imp_index[-1]])\n",
    "print(features[imp_index[-2]])"
   ]
  },
  {
   "cell_type": "markdown",
   "metadata": {},
   "source": [
    "# Implementation of PDP"
   ]
  },
  {
   "cell_type": "code",
   "execution_count": 5,
   "metadata": {},
   "outputs": [],
   "source": [
    "__all__ = ['PartialDependenceExplainer']\n",
    "\n",
    "\n",
    "class PartialDependenceExplainer:\n",
    "    \"\"\"\n",
    "    Partial Dependence explanation [1]_.\n",
    "    - Supports scikit-learn like classification and regression classifiers.\n",
    "    - Works for both numerical and categorical columns.\n",
    "    Parameters\n",
    "    ----------\n",
    "    estimator : sklearn-like classifier\n",
    "        Model that was fitted on the data.\n",
    "    n_grid_points : int, default 50\n",
    "        Number of grid points used in replacement\n",
    "        for the original numeric data. Only used\n",
    "        if the targeted column is numeric. For categorical\n",
    "        column, the number of grid points will always be\n",
    "        the distinct number of categories in that column.\n",
    "        Smaller number of grid points serves as an\n",
    "        approximation for the total number of unique\n",
    "        points and will result in faster computation\n",
    "    batch_size : int, default = 'auto'\n",
    "        Compute partial depedence prediction batch by batch to save\n",
    "        memory usage, the default batch size will be\n",
    "        ceil(number of rows in the data / the number of grid points used)\n",
    "    n_jobs : int, default 1\n",
    "        Number of jobs to run in parallel, if the model already fits\n",
    "        extremely fast on the data, then specify 1 so that there's no\n",
    "        overhead of spawning different processes to do the computation\n",
    "    verbose : int, default 1\n",
    "        The verbosity level: if non zero, progress messages are printed.\n",
    "        Above 50, the output is sent to stdout. The frequency of the messages increases\n",
    "        with the verbosity level. If it more than 10, all iterations are reported.\n",
    "    pre_dispatch : int or str, default '2*n_jobs'\n",
    "        Controls the number of jobs that get dispatched during parallel\n",
    "        execution. Reducing this number can be useful to avoid an\n",
    "        explosion of memory consumption when more jobs get dispatched\n",
    "        than CPUs can process. Possible inputs:\n",
    "            - None, in which case all the jobs are immediately\n",
    "              created and spawned. Use this for lightweight and\n",
    "              fast-running jobs, to avoid delays due to on-demand\n",
    "              spawning of the jobs\n",
    "            - An int, giving the exact number of total jobs that are\n",
    "              spawned\n",
    "            - A string, giving an expression as a function of n_jobs,\n",
    "              as in '2*n_jobs'\n",
    "    Attributes\n",
    "    ----------\n",
    "    feature_name_ : str\n",
    "        The input feature_name to the .fit unmodified, will\n",
    "        be used in subsequent method.\n",
    "    feature_type_ : str\n",
    "        The input feature_type to the .fit unmodified, will\n",
    "        be used in subsequent method.\n",
    "    feature_grid_ : 1d ndarray\n",
    "        Unique grid points that were used to generate the\n",
    "        partial dependence result.\n",
    "    results : list of DataFrame\n",
    "        Partial dependence result. If it's a classification\n",
    "        estimator then each index of the list is the result\n",
    "        for each class. On the other hand, if it's a regression\n",
    "        estimator, it will be a list with 1 element.\n",
    "    \"\"\"\n",
    "\n",
    "    def __init__(self, estimator, n_grid_points = 50, batch_size = 'auto',\n",
    "                 n_jobs = 1, verbose = 1, pre_dispatch = '2*n_jobs'):\n",
    "        self.n_jobs = n_jobs\n",
    "        self.verbose = verbose\n",
    "        self.estimator = estimator\n",
    "        self.pre_dispatch = pre_dispatch\n",
    "        self.n_grid_points = n_grid_points\n",
    "\n",
    "    def fit(self, data, feature_name, feature_type):\n",
    "        \"\"\"\n",
    "        Obtain the partial dependence result.\n",
    "        Parameters\n",
    "        ----------\n",
    "        data : DataFrame, shape [n_samples, n_features]\n",
    "            Input data to the estimator/model.\n",
    "        feature_name : str\n",
    "            Feature's name in the data what we wish to explain.\n",
    "        feature_type : str, {'num', 'cat'}\n",
    "            Specify whether feature_name is a numerical or\n",
    "            categorical column.\n",
    "        Returns\n",
    "        -------\n",
    "        self\n",
    "        \"\"\"\n",
    "\n",
    "        # check whether it's a classification or regression model\n",
    "        estimator = self.estimator\n",
    "        try:\n",
    "            n_classes = estimator.classes_.size\n",
    "            is_classifier = True\n",
    "            predict = estimator.predict_proba\n",
    "        except AttributeError:\n",
    "            # for regression problem, still set the\n",
    "            # number of classes to 1 to initialize\n",
    "            # the loop later downstream\n",
    "            n_classes = 1\n",
    "            is_classifier = False\n",
    "            predict = estimator.predict\n",
    "\n",
    "        target = data[feature_name]\n",
    "        unique_target = np.unique(target)\n",
    "        n_unique = unique_target.size\n",
    "        if feature_type == 'num':\n",
    "            if self.n_grid_points >= n_unique:\n",
    "                feature_grid = unique_target\n",
    "            else:\n",
    "                # when the number of required grid points is smaller than the number of\n",
    "                # unique values, we choose the percentile points to make sure the grid points\n",
    "                # span widely across the whole value range\n",
    "                percentile = np.percentile(target, np.linspace(0, 100, self.n_grid_points))\n",
    "                feature_grid = np.unique(percentile)\n",
    "\n",
    "            feature_cols = feature_grid\n",
    "        else:\n",
    "            feature_grid = unique_target\n",
    "            feature_cols = np.asarray(['{}_{}'.format(feature_name, category)\n",
    "                                       for category in unique_target])\n",
    "\n",
    "        # compute prediction batch by batch to save memory usage\n",
    "        n_rows = data.shape[0]\n",
    "        batch_size = ceil(n_rows / feature_grid.size)\n",
    "        parallel = Parallel(\n",
    "            n_jobs = self.n_jobs, verbose = self.verbose, pre_dispatch = self.pre_dispatch)\n",
    "        outputs = parallel(delayed(_predict_batch)(data_batch,\n",
    "                                                   feature_grid,\n",
    "                                                   feature_name,\n",
    "                                                   is_classifier,\n",
    "                                                   n_classes,\n",
    "                                                   predict)\n",
    "                           for data_batch in _data_iter(data, batch_size))\n",
    "        results = []\n",
    "        for output in zip(*outputs):\n",
    "            result = pd.concat(output, ignore_index = True)\n",
    "            result.columns = feature_cols\n",
    "            results.append(result)\n",
    "\n",
    "        self.results_ = results\n",
    "        self.feature_name_ = feature_name\n",
    "        self.feature_grid_ = feature_grid\n",
    "        self.feature_type_ = feature_type\n",
    "        return self\n",
    "\n",
    "    def plot(self, centered = True, target_class = 0):\n",
    "        \"\"\"\n",
    "        Use the partial dependence result to generate\n",
    "        a partial dependence plot (using matplotlib).\n",
    "        Parameters\n",
    "        ----------\n",
    "        centered : bool, default True\n",
    "            Center the partial dependence plot by subtacting every partial\n",
    "            dependence result table's column value with the value of the first\n",
    "            column, i.e. first column's value will serve as the baseline\n",
    "            (centered at 0) for all other values.\n",
    "        target_class : int, default 0\n",
    "            The target class to show for the partial dependence result,\n",
    "            for regression task, we can leave the default number unmodified,\n",
    "            but for classification task, we should specify the target class\n",
    "            parameter to meet our needs\n",
    "        Returns\n",
    "        -------\n",
    "        figure\n",
    "        \"\"\"\n",
    "        figure = GridSpec(5, 1)\n",
    "        ax1 = plt.subplot(figure[0, :])\n",
    "        self._plot_title(ax1)\n",
    "        ax2 = plt.subplot(figure[1:, :])\n",
    "        self._plot_content(ax2, centered, target_class)\n",
    "        return figure\n",
    "\n",
    "    def _plot_title(self, ax):\n",
    "        font_family = 'Arial'\n",
    "        title = 'Partial Dependence Plot for {}'.format(self.feature_name_)\n",
    "        subtitle = 'Number of unique grid points: {}'.format(self.feature_grid_.size)\n",
    "        title_fontsize = 15\n",
    "        subtitle_fontsize = 12\n",
    "\n",
    "        ax.set_facecolor('white')\n",
    "        ax.text(\n",
    "            0, 0.7, title,\n",
    "            fontsize = title_fontsize, fontname = font_family)\n",
    "        ax.text(\n",
    "            0, 0.4, subtitle, color = 'grey',\n",
    "            fontsize = subtitle_fontsize, fontname = font_family)\n",
    "        ax.axis('off')\n",
    "\n",
    "    def _plot_content(self, ax, centered, target_class):\n",
    "        # pd (partial dependence)\n",
    "        pd_linewidth = 2\n",
    "        pd_markersize = 5\n",
    "        pd_color = '#1A4E5D'\n",
    "        fill_alpha = 0.2\n",
    "        fill_color = '#66C2D7'\n",
    "        zero_linewidth = 1.5\n",
    "        zero_color = '#E75438'\n",
    "        xlabel_fontsize = 10\n",
    "\n",
    "        results = self.results_[target_class]\n",
    "        feature_cols = results.columns\n",
    "        if self.feature_type_ == 'cat':\n",
    "            # ticks = all the unique categories\n",
    "            x = range(len(feature_cols))\n",
    "            ax.set_xticks(x)\n",
    "            ax.set_xticklabels(feature_cols)\n",
    "        else:\n",
    "            x = feature_cols\n",
    "\n",
    "        # center the partial dependence plot by subtacting every value\n",
    "        # with the value of the first column, i.e. first column's value\n",
    "        # will serve as the baseline (centered at 0) for all other values\n",
    "        pd = results.values.mean(axis = 0)\n",
    "        if centered:\n",
    "            pd -= pd[0]\n",
    "\n",
    "        pd_std = results.values.std(axis = 0)\n",
    "        upper = pd + pd_std\n",
    "        lower = pd - pd_std\n",
    "\n",
    "        ax.plot(\n",
    "            x, pd, color = pd_color, linewidth = pd_linewidth,\n",
    "            marker = 'o', markersize = pd_markersize)\n",
    "        ax.plot(\n",
    "            x, [0] * pd.size, color = zero_color,\n",
    "            linestyle = '--', linewidth = zero_linewidth)\n",
    "        ax.fill_between(x, upper, lower, alpha = fill_alpha, color = fill_color)\n",
    "        ax.set_xlabel(self.feature_name_, fontsize = xlabel_fontsize)\n",
    "        self._modify_axis(ax)\n",
    "\n",
    "    def _modify_axis(self, ax):\n",
    "        tick_labelsize = 8\n",
    "        tick_colors = '#9E9E9E'\n",
    "        tick_labelcolor = '#424242'\n",
    "\n",
    "        ax.tick_params(\n",
    "            axis = 'both', which = 'major', colors = tick_colors,\n",
    "            labelsize = tick_labelsize, labelcolor = tick_labelcolor)\n",
    "\n",
    "        ax.set_facecolor('white')\n",
    "        ax.get_yaxis().tick_left()\n",
    "        ax.get_xaxis().tick_bottom()\n",
    "        for direction in ('top', 'left', 'right', 'bottom'):\n",
    "            ax.spines[direction].set_visible(False)\n",
    "\n",
    "        for axis in ('x', 'y'):\n",
    "            ax.grid(True, 'major', axis, ls = '--', lw = .5, c = 'k', alpha = .3)\n",
    "\n",
    "\n",
    "def _data_iter(data, batch_size):\n",
    "    \"\"\"Used by PartialDependenceExplainer to loop through the data by batch\"\"\"\n",
    "    n_rows = data.shape[0]\n",
    "    for i in range(0, n_rows, batch_size):\n",
    "        yield data[i:i + batch_size].reset_index(drop = True)\n",
    "\n",
    "\n",
    "def _predict_batch(data_batch, feature_grid, feature_name,\n",
    "                   is_classifier, n_classes, predict):\n",
    "    \"\"\"Used by PartialDependenceExplainer to generate prediction by batch\"\"\"\n",
    "\n",
    "    # repeat the index and use it to slice the data to create the repeated data\n",
    "    # instead of creating the repetition using the values, i.e.\n",
    "    # np.repeat(data_batch.values, repeats = feature_grid.size, axis = 0)\n",
    "    # this prevents everything from getting converted to a different data type, e.g.\n",
    "    # if there is 1 object type column then everything would get converted to object\n",
    "    index_batch = np.repeat(data_batch.index.values, repeats = feature_grid.size)\n",
    "    ice_data = data_batch.iloc[index_batch].copy()\n",
    "    ice_data[feature_name] = np.tile(feature_grid, data_batch.shape[0])\n",
    "\n",
    "    results = []\n",
    "    prediction = predict(ice_data)\n",
    "    for n_class in range(n_classes):\n",
    "        if is_classifier:\n",
    "            result = prediction[:, n_class]\n",
    "        else:\n",
    "            result = prediction\n",
    "\n",
    "        # reshape tiled data back to original batch's shape\n",
    "        reshaped = result.reshape((data_batch.shape[0], feature_grid.size))\n",
    "        result = pd.DataFrame(reshaped)\n",
    "        results.append(result)\n",
    "\n",
    "    return results\n",
    "\n"
   ]
  },
  {
   "cell_type": "markdown",
   "metadata": {},
   "source": [
    "# Testing"
   ]
  },
  {
   "cell_type": "code",
   "execution_count": 6,
   "metadata": {},
   "outputs": [
    {
     "data": {
      "image/png": "[encoded data removed]",
      "text/plain": [
       "<Figure size 1152x648 with 2 Axes>"
      ]
     },
     "metadata": {
      "needs_background": "light"
     },
     "output_type": "display_data"
    }
   ],
   "source": [
    "plt.rcParams['figure.figsize'] = 16, 9\n",
    "pd_explainer = PartialDependenceExplainer(estimator = rf, verbose = 0)\n",
    "pd_explainer.fit(data, feature_name = 'Sex', feature_type = 'cat')\n",
    "pd_explainer.plot(centered = False, target_class = 1)\n",
    "plt.show()"
   ]
  },
  {
   "cell_type": "markdown",
   "metadata": {},
   "source": [
    "<div class=\"alert alert-block alert-info\">\n",
    "<font color=black><br>\n",
    "\n",
    "- The PDP makes intuitive sense, as for the categorical feature Sex, 1 indicates that the passenger was a male. \n",
    "- And we know that during the titanic accident, the majority of the survivors were female passenger, thus the plot is telling us male passengers will on average have around 40% chance lower of surviving when compared with female passengers. \n",
    "- Also instead of only plotting the \"partial dependence\" plot, the plot also fills between the standard deviation range. \n",
    "- This is essentially borrowing the idea from ICE plot that only plotting the average may obfuscate the relationship. \n",
    "\n",
    "<br></font>\n",
    "</div>"
   ]
  },
  {
   "cell_type": "code",
   "execution_count": 7,
   "metadata": {},
   "outputs": [
    {
     "data": {
      "image/png": "[encoded data removed]",
      "text/plain": [
       "<Figure size 1152x648 with 2 Axes>"
      ]
     },
     "metadata": {
      "needs_background": "light"
     },
     "output_type": "display_data"
    }
   ],
   "source": [
    "# centered = True is actually the default\n",
    "pd_explainer.plot(centered = True, target_class = 1)\n",
    "plt.show()"
   ]
  },
  {
   "cell_type": "markdown",
   "metadata": {},
   "source": [
    "<div class=\"alert alert-block alert-info\">\n",
    "<font color=black><br>\n",
    "\n",
    "- We can perform the same process for numerical features such as Fare. \n",
    "- We know that more people from the upper class survived, and people from the upper class generally have to pay more Fare to get onboard the titanic. \n",
    "- The partial dependence plot below also depicts this trend. \n",
    "\n",
    "<br></font>\n",
    "</div>"
   ]
  },
  {
   "cell_type": "code",
   "execution_count": 8,
   "metadata": {},
   "outputs": [
    {
     "data": {
      "image/png": "[encoded data removed]",
      "text/plain": [
       "<Figure size 1152x648 with 2 Axes>"
      ]
     },
     "metadata": {
      "needs_background": "light"
     },
     "output_type": "display_data"
    }
   ],
   "source": [
    "pd_explainer.fit(data, feature_name = 'Fare', feature_type = 'num')\n",
    "pd_explainer.plot(target_class = 1)\n",
    "plt.show()"
   ]
  },
  {
   "cell_type": "markdown",
   "metadata": {},
   "source": [
    "# References"
   ]
  },
  {
   "cell_type": "markdown",
   "metadata": {},
   "source": [
    "<div class=\"alert alert-block alert-warning\">\n",
    "<font color=black>\n",
    "\n",
    "- [source code for the PDP class](https://github.com/ethen8181/machine-learning/blob/master/model_selection/partial_dependence/partial_dependence.ipynb<br>)\n",
    "- [Blog: Introducing PDPbox](https://towardsdatascience.com/introducing-pdpbox-2aa820afd312)\n",
    "- [Online Book: Partial Dependence Plot (PDP)](https://christophm.github.io/interpretable-ml-book/pdp.html)\n",
    "- [Mathworks Documentation: plotPartialDependence](https://www.mathworks.com/help/stats/regressiontree.plotpartialdependence.html?requestedDomain=true#mw_79dadf51-f451-45a9-a801-2e9ccec37aae)\n",
    "- [Github: PDPbox - python partial dependence plot toolbox](https://github.com/SauceCat/PDPbox) \n",
    "- [Youtube: PyData - Random Forests Best Practices for the Business World](https://www.youtube.com/watch?v=E7VLE-U07x0&index=51&list=PLGVZCDnMOq0oqs6RTJk4zZde86DZrgnzm)\n",
    "- https://github.com/SauceCat/PDPbox\n",
    "- [Blog: Using Partial Dependence to Compare Sort Algorithms](http://techblog.hotwire.com/2016/06/13/partial-dependence-compare-sort/) \n",
    "                                                   \n",
    "</font>\n",
    "</div>"
   ]
  },
  {
   "cell_type": "code",
   "execution_count": null,
   "metadata": {},
   "outputs": [],
   "source": []
  }
 ],
 "metadata": {
  "hide_input": false,
  "kernelspec": {
   "display_name": "trainingAI",
   "language": "python",
   "name": "trainingai"
  },
  "language_info": {
   "codemirror_mode": {
    "name": "ipython",
    "version": 3
   },
   "file_extension": ".py",
   "mimetype": "text/x-python",
   "name": "python",
   "nbconvert_exporter": "python",
   "pygments_lexer": "ipython3",
   "version": "3.8.5"
  },
  "toc": {
   "nav_menu": {
    "height": "12px",
    "width": "252px"
   },
   "number_sections": true,
   "sideBar": true,
   "skip_h1_title": false,
   "title_cell": "Table of Contents",
   "title_sidebar": "Contents",
   "toc_cell": true,
   "toc_position": {},
   "toc_section_display": "block",
   "toc_window_display": true
  },
  "varInspector": {
   "cols": {
    "lenName": 16,
    "lenType": 16,
    "lenVar": 40
   },
   "kernels_config": {
    "python": {
     "delete_cmd_postfix": "",
     "delete_cmd_prefix": "del ",
     "library": "var_list.py",
     "varRefreshCmd": "print(var_dic_list())"
    },
    "r": {
     "delete_cmd_postfix": ") ",
     "delete_cmd_prefix": "rm(",
     "library": "var_list.r",
     "varRefreshCmd": "cat(var_dic_list()) "
    }
   },
   "types_to_exclude": [
    "module",
    "function",
    "builtin_function_or_method",
    "instance",
    "_Feature"
   ],
   "window_display": false
  }
 },
 "nbformat": 4,
 "nbformat_minor": 2
}
