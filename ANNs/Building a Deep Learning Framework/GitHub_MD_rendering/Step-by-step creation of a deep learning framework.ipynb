{
 "cells": [
  {
   "cell_type": "markdown",
   "metadata": {},
   "source": [
    "# Introduction"
   ]
  },
  {
   "cell_type": "markdown",
   "metadata": {},
   "source": [
    "\n",
    "**What?** Step-by-step creation of a deep learning framework\n",
    "\n",
""   ]
  },
  {
   "cell_type": "markdown",
   "metadata": {},
   "source": [
    "# Plan of attack"
   ]
  },
  {
   "cell_type": "markdown",
   "metadata": {},
   "source": [
    "\n",
    "- **Our main goal** is to design an OO ANNs, that to say an Object-Oriented Artifical Neural Network.\n",
    "- We are going to create a `Tensor` class and will modify it 6 times.\n",
    "- Every time we add something weill add an integer so we'll keep track of what we are changing.\n",
    "\n",
""   ]
  },
  {
   "cell_type": "markdown",
   "metadata": {},
   "source": [
    "# Import modules"
   ]
  },
  {
   "cell_type": "code",
   "execution_count": 2,
   "metadata": {},
   "outputs": [],
   "source": [
    "import numpy as np\n",
    "import copy"
   ]
  },
  {
   "cell_type": "markdown",
   "metadata": {},
   "source": [
    "# Step #1 - Create a tensor support"
   ]
  },
  {
   "cell_type": "markdown",
   "metadata": {},
   "source": [
    "\n",
    "- A **vector** is a one-dimensional tensor. \n",
    "- A **matrix** is a two-dimensional tensor.\n",
    "- A higher dimensions are referred to as **n-dimensional tensors.**\n",
    "- Since we want to create something general, we then create a framework for tensor only.\n",
    "- `__str__ `function is supposed to return a human-readable format, which is good for logging or to \n",
    "display some information about the object. \n",
    "- `__repr__` function is supposed to return an “official” string representation of the object, which \n",
    "can be used to construct the object again.\n",
    "\n",
""   ]
  },
  {
   "cell_type": "code",
   "execution_count": 23,
   "metadata": {
    "code_folding": []
   },
   "outputs": [],
   "source": [
    "class Tensor_V0(object):\n",
    "\n",
    "    \"\"\"Tensor class\n",
    "\n",
    "    Stores all the numerical information in a NumPy array (self.data)\n",
    "    Supports one tensor operation (addition)\n",
    "    \"\"\"\n",
    "\n",
    "    def __init__(self, data):\n",
    "        \"\"\"__init__ method\n",
    "\n",
    "        Given a list makes it into an array\n",
    "        \"\"\"\n",
    "\n",
    "        self.data = np.array(data)\n",
    "\n",
    "    def __add__(self, other):\n",
    "        \"\"\"__add__ method\n",
    "\n",
    "        “+” is just syntactic sugar around the “__add__” method\n",
    "        so x+y is equivalent to x.__add__(y)\n",
    "        \"\"\"\n",
    "\n",
    "        return Tensor(self.data + other.data)\n",
    "\n",
    "    def __repr__(self):\n",
    "        \"\"\"__repr__ method\n",
    "\n",
    "        Returns the object representation in string format.\n",
    "        Returns an “official” string representation of the object,\n",
    "        which can be used to construct th eobject again.\n",
    "        \"\"\"\n",
    "\n",
    "        return str(self.data.__repr__())\n",
    "\n",
    "    def __str__(self):\n",
    "        \"\"\"__str__ method\n",
    "\n",
    "        Returns the string representation of the object. This method is called \n",
    "        when print() or str() function is invoked on an object. Returns a\n",
    "        human-readable format.\n",
    "        \"\"\"\n",
    "\n",
    "        return str(self.data.__str__())"
   ]
  },
  {
   "cell_type": "code",
   "execution_count": 8,
   "metadata": {},
   "outputs": [],
   "source": [
    "x = Tensor([1,2,3,4,5])"
   ]
  },
  {
   "cell_type": "code",
   "execution_count": 9,
   "metadata": {},
   "outputs": [
    {
     "data": {
      "text/plain": [
       "array([1, 2, 3, 4, 5])"
      ]
     },
     "execution_count": 9,
     "metadata": {},
     "output_type": "execute_result"
    }
   ],
   "source": [
    "x"
   ]
  },
  {
   "cell_type": "code",
   "execution_count": 10,
   "metadata": {
    "code_folding": []
   },
   "outputs": [
    {
     "data": {
      "text/plain": [
       "'array([1, 2, 3, 4, 5])'"
      ]
     },
     "execution_count": 10,
     "metadata": {},
     "output_type": "execute_result"
    }
   ],
   "source": [
    "# Official string representation.\n",
    "repr(x)"
   ]
  },
  {
   "cell_type": "code",
   "execution_count": 20,
   "metadata": {},
   "outputs": [
    {
     "data": {
      "text/plain": [
       "array([1, 2, 3, 4, 5])"
      ]
     },
     "execution_count": 20,
     "metadata": {},
     "output_type": "execute_result"
    }
   ],
   "source": [
    "# now you can use it to recreate it!\n",
    "np.array([1, 2, 3, 4, 5])"
   ]
  },
  {
   "cell_type": "code",
   "execution_count": 11,
   "metadata": {},
   "outputs": [
    {
     "data": {
      "text/plain": [
       "'[1 2 3 4 5]'"
      ]
     },
     "execution_count": 11,
     "metadata": {},
     "output_type": "execute_result"
    }
   ],
   "source": [
    "# human-readable representation\n",
    "str(x)"
   ]
  },
  {
   "cell_type": "code",
   "execution_count": 12,
   "metadata": {},
   "outputs": [
    {
     "data": {
      "text/plain": [
       "array([ 2,  4,  6,  8, 10])"
      ]
     },
     "execution_count": 12,
     "metadata": {},
     "output_type": "execute_result"
    }
   ],
   "source": [
    "# Adding two tensors\n",
    "x + x"
   ]
  },
  {
   "cell_type": "code",
   "execution_count": 13,
   "metadata": {},
   "outputs": [
    {
     "data": {
      "text/plain": [
       "__main__.Tensor"
      ]
     },
     "execution_count": 13,
     "metadata": {},
     "output_type": "execute_result"
    }
   ],
   "source": [
    "# Check type\n",
    "type(x)"
   ]
  },
  {
   "cell_type": "code",
   "execution_count": 14,
   "metadata": {},
   "outputs": [
    {
     "data": {
      "text/plain": [
       "array([1, 2, 3, 4, 5])"
      ]
     },
     "execution_count": 14,
     "metadata": {},
     "output_type": "execute_result"
    }
   ],
   "source": [
    "x.data"
   ]
  },
  {
   "cell_type": "code",
   "execution_count": 15,
   "metadata": {
    "scrolled": false
   },
   "outputs": [
    {
     "data": {
      "text/plain": [
       "['__add__',\n",
       " '__class__',\n",
       " '__delattr__',\n",
       " '__dict__',\n",
       " '__dir__',\n",
       " '__doc__',\n",
       " '__eq__',\n",
       " '__format__',\n",
       " '__ge__',\n",
       " '__getattribute__',\n",
       " '__gt__',\n",
       " '__hash__',\n",
       " '__init__',\n",
       " '__init_subclass__',\n",
       " '__le__',\n",
       " '__lt__',\n",
       " '__module__',\n",
       " '__ne__',\n",
       " '__new__',\n",
       " '__reduce__',\n",
       " '__reduce_ex__',\n",
       " '__repr__',\n",
       " '__setattr__',\n",
       " '__sizeof__',\n",
       " '__str__',\n",
       " '__subclasshook__',\n",
       " '__weakref__',\n",
       " 'data']"
      ]
     },
     "execution_count": 15,
     "metadata": {},
     "output_type": "execute_result"
    }
   ],
   "source": [
    "# See all class methods and instance attribute\n",
    "dir(x)"
   ]
  },
  {
   "cell_type": "code",
   "execution_count": 19,
   "metadata": {},
   "outputs": [
    {
     "data": {
      "text/plain": [
       "True"
      ]
     },
     "execution_count": 19,
     "metadata": {},
     "output_type": "execute_result"
    }
   ],
   "source": [
    "# Is x an instance of the class Tensor?\n",
    "isinstance(x, Tensor)"
   ]
  },
  {
   "cell_type": "markdown",
   "metadata": {},
   "source": [
    "# Step #2 - adding back propgation"
   ]
  },
  {
   "cell_type": "markdown",
   "metadata": {},
   "source": [
    "\n",
    "- Backpropagation (aka backpro) is just a fancy name to compute the gradient and propagat back. The propgation is needed because we have more than one layers.\n",
    "- To be precise backprop **does not** compute gradient what is does. It just propagates it from output to input.\n",
    "- Simplistically it involves the computation the gradient at the output of the network which is then propagate all the wait back while updatating the weights on each layers. This is done untill a convergence criterion is met\n",
    "\n",
""   ]
  },
  {
   "cell_type": "code",
   "execution_count": 356,
   "metadata": {},
   "outputs": [],
   "source": [
    "class Tensor_V1(object):\n",
    "\n",
    "    \"\"\"Tensor class\n",
    "\n",
    "    Stores all the numerical information in a NumPy array (self.data)\n",
    "    Supports one tensor operation (addition)\n",
    "    \"\"\"\n",
    "\n",
    "    def __init__(self, data, creators=None, creation_op=None, verboseCall=True):\n",
    "        \"\"\"__init__ method\n",
    "\n",
    "        data string\n",
    "\n",
    "        creators  string\n",
    "            list containing any tensors used in the creation of the\n",
    "            current tensor (which defaults to None). \n",
    "        creation_op string\n",
    "            string describes the operation between the two creator tensor.\n",
    "        verboseCall Bool\n",
    "            True if you want to print the method being called\n",
    "\n",
    "        \"\"\"\n",
    "        self.data = np.array(data)\n",
    "        self.creation_op = creation_op\n",
    "        self.creators = creators\n",
    "        self.grad = None\n",
    "        self.verboseCall = verboseCall\n",
    "\n",
    "    def myPrintDecorator(func):\n",
    "        \"\"\"My print decorator\n",
    "\n",
    "        Print the name of the method when it is called.\n",
    "        \"\"\"\n",
    "\n",
    "        def printCallNameMethod(self, *args, **kwargs):\n",
    "            if self.verboseCall == True:\n",
    "                print(\"Using method\", func.__name__)\n",
    "            instance = func(self, *args, **kwargs)\n",
    "            return instance\n",
    "        return printCallNameMethod\n",
    "\n",
    "    @myPrintDecorator\n",
    "    def backward(self, grad):\n",
    "        self.grad = grad\n",
    "        if(self.creation_op == \"add\"):\n",
    "            self.creators[0].backward(grad)\n",
    "            self.creators[1].backward(grad)\n",
    "\n",
    "    @myPrintDecorator\n",
    "    def __add__(self, other):\n",
    "        \"\"\"__add__ method\n",
    "\n",
    "        “+” is just syntactic sugar around the “__add__” method\n",
    "        so x+y is equivalent to x.__add__(y).\n",
    "\n",
    "        ensors x and y are added together, z has two creators\n",
    "        \"\"\"\n",
    "        return Tensor_V1(self.data + other.data,\n",
    "                         creators=[self, other],\n",
    "                         creation_op=\"add\")\n",
    "\n",
    "    @myPrintDecorator\n",
    "    def __repr__(self):\n",
    "        \"\"\"__repr__ method\n",
    "        Returns the object representation in string format.\n",
    "        Returns an “official” string representation of the object,\n",
    "        which can be used to construct th eobject again.\n",
    "        \"\"\"\n",
    "        return str(self.data.__repr__())\n",
    "\n",
    "    @myPrintDecorator\n",
    "    def __str__(self):\n",
    "        \"\"\"\n",
    "        Returns the string representation of the object. This method is called \n",
    "        when print() or str() function is invoked on an object. Returns a\n",
    "        human-readable format.\n",
    "        \"\"\"\n",
    "        return str(self.data.__str__())"
   ]
  },
  {
   "cell_type": "markdown",
   "metadata": {},
   "source": [
    "\n",
    "- To create the backward pass we'll use the concept of **graph**.\n",
    "- To do this we first assign two new attributes:\n",
    "    - `creators = None` = list containing any tensors used in the creation of the current tensor.\n",
    "    - `creation_op = None` = string describes the operation between the two creator tensor.\n",
    "\n",
    "\n",
    "- `z = x + y` creates a **computation graph** with three nodes (x, y, and z) and two edges (z -> x and z -> y). Each edge is labeled \n",
    "by the creation_op add. This graph allows you to recursively backpropagate gradients.\n",
    "- This notion graph gets built during forward propagation on-the-fly and is called **dynamic computation graph**. This is in constrast with another method called **stati computational graph**.\n",
    "\n",
""   ]
  },
  {
   "attachments": {
    "image.png": {
     "image/png": "[encoded data removed]"
    }
   },
   "cell_type": "markdown",
   "metadata": {},
   "source": [
    "![image.png](attachment:image.png)"
   ]
  },
  {
   "cell_type": "code",
   "execution_count": 357,
   "metadata": {},
   "outputs": [],
   "source": [
    "# Let's create two tensor\n",
    "x = Tensor_V1([1, 2, 3, 4, 5])\n",
    "y = Tensor_V1([1, 2, 3, 4, 5])"
   ]
  },
  {
   "cell_type": "code",
   "execution_count": 358,
   "metadata": {},
   "outputs": [
    {
     "name": "stdout",
     "output_type": "stream",
     "text": [
      "None\n",
      "None\n"
     ]
    }
   ],
   "source": [
    "# You can now see why we use the attribute none at the begging.\n",
    "# These are the inputs thus they do not have neither a cretor none an operation attached to\n",
    "# unless we do explicitly as int the following case\n",
    "print(y.creation_op)\n",
    "print(y.creators)"
   ]
  },
  {
   "cell_type": "code",
   "execution_count": 359,
   "metadata": {},
   "outputs": [
    {
     "name": "stdout",
     "output_type": "stream",
     "text": [
      "test\n",
      "[[1, 3], [2]]\n"
     ]
    }
   ],
   "source": [
    "\"\"\"\n",
    "Now we are going to create another tensor which has a creators and \n",
    "creation_op attributes given at the instantiation time\n",
    "\"\"\"\n",
    "xDummy = Tensor_V1([1, 2, 3, 4, 5], creators=[[1, 3], [2]], creation_op=\"test\")\n",
    "print(xDummy.creation_op)\n",
    "print(xDummy.creators)"
   ]
  },
  {
   "cell_type": "code",
   "execution_count": 360,
   "metadata": {},
   "outputs": [
    {
     "name": "stdout",
     "output_type": "stream",
     "text": [
      "Using method __add__\n"
     ]
    }
   ],
   "source": [
    "# Going ot back to our example, let's build sum our two tensor\n",
    "z = x + y"
   ]
  },
  {
   "cell_type": "code",
   "execution_count": 361,
   "metadata": {},
   "outputs": [
    {
     "name": "stdout",
     "output_type": "stream",
     "text": [
      "Using method __repr__\n"
     ]
    },
    {
     "data": {
      "text/plain": [
       "array([ 2,  4,  6,  8, 10])"
      ]
     },
     "execution_count": 361,
     "metadata": {},
     "output_type": "execute_result"
    }
   ],
   "source": [
    "z"
   ]
  },
  {
   "cell_type": "code",
   "execution_count": 362,
   "metadata": {},
   "outputs": [
    {
     "name": "stdout",
     "output_type": "stream",
     "text": [
      "Using method __str__\n",
      "[ 2  4  6  8 10]\n"
     ]
    }
   ],
   "source": [
    "print(z)"
   ]
  },
  {
   "cell_type": "code",
   "execution_count": 363,
   "metadata": {},
   "outputs": [
    {
     "name": "stdout",
     "output_type": "stream",
     "text": [
      "Using method __repr__\n",
      "Using method __repr__\n"
     ]
    },
    {
     "data": {
      "text/plain": [
       "[array([1, 2, 3, 4, 5]), array([1, 2, 3, 4, 5])]"
      ]
     },
     "execution_count": 363,
     "metadata": {},
     "output_type": "execute_result"
    }
   ],
   "source": [
    "# Show the creators\n",
    "z.creators"
   ]
  },
  {
   "cell_type": "code",
   "execution_count": 364,
   "metadata": {},
   "outputs": [
    {
     "data": {
      "text/plain": [
       "'add'"
      ]
     },
     "execution_count": 364,
     "metadata": {},
     "output_type": "execute_result"
    }
   ],
   "source": [
    "# Show the operation\n",
    "z.creation_op"
   ]
  },
  {
   "cell_type": "markdown",
   "metadata": {},
   "source": [
    "\n",
    "- **How do we propagate the gradient?** and we have not asked **How do we compute the gradient?!**\n",
    "- Let's say we have a gradients which is passed to z. Apply backpropagation means the gradient is applied to z parents: x and y. \n",
    "- Further, backpropagating through addition means also applying addition when backpropagating. \n",
    "- In this case, because there’s only one gradient to add into x or y, you copy the gradient from z onto x and y.\n",
    "\n",
""   ]
  },
  {
   "cell_type": "code",
   "execution_count": 365,
   "metadata": {},
   "outputs": [],
   "source": [
    "# Let's create a dummy gradient\n",
    "gradients = Tensor_V1(np.array([1,1,1,1,1]))\n",
    "# This will work as well\n",
    "#gradients = Tensor_V1([1,1,1,1,1])"
   ]
  },
  {
   "cell_type": "code",
   "execution_count": 366,
   "metadata": {},
   "outputs": [
    {
     "name": "stdout",
     "output_type": "stream",
     "text": [
      "Using method backward\n",
      "Using method backward\n",
      "Using method backward\n"
     ]
    }
   ],
   "source": [
    "z.backward(gradients)"
   ]
  },
  {
   "cell_type": "code",
   "execution_count": 370,
   "metadata": {},
   "outputs": [
    {
     "name": "stdout",
     "output_type": "stream",
     "text": [
      "Using method __str__\n",
      "[1 1 1 1 1]\n",
      "Using method __str__\n",
      "[1 1 1 1 1]\n"
     ]
    }
   ],
   "source": [
    "# the gradient is passed wthouht change as we wanted\n",
    "print(x.grad)\n",
    "print(y.grad)"
   ]
  },
  {
   "cell_type": "markdown",
   "metadata": {},
   "source": [
    "\n",
    "- Perhaps the **most elegant part** of this form of autograd is that it works recursively as well, because each \n",
    "vector calls .backward() on all of its self.creators:\n",
    "\n",
""   ]
  },
  {
   "cell_type": "code",
   "execution_count": 372,
   "metadata": {},
   "outputs": [
    {
     "name": "stdout",
     "output_type": "stream",
     "text": [
      "Using method __add__\n",
      "Using method __add__\n",
      "Using method __add__\n",
      "Using method backward\n",
      "Using method backward\n",
      "Using method backward\n",
      "Using method backward\n",
      "Using method backward\n",
      "Using method backward\n",
      "Using method backward\n",
      "Using method __str__\n",
      "[1 1 1 1 1]\n",
      "Using method __str__\n",
      "[1 1 1 1 1]\n",
      "Using method __str__\n",
      "[1 1 1 1 1]\n",
      "Using method __str__\n",
      "[1 1 1 1 1]\n",
      "Using method __str__\n",
      "[1 1 1 1 1]\n",
      "Using method __str__\n",
      "[1 1 1 1 1]\n"
     ]
    }
   ],
   "source": [
    "a = Tensor_V1([1, 2, 3, 4, 5])\n",
    "b = Tensor_V1([2, 2, 2, 2, 2])\n",
    "c = Tensor_V1([5, 4, 3, 2, 1])\n",
    "d = Tensor_V1([-1, -2, -3, -4, -5])\n",
    "e = a+b\n",
    "f = c+d\n",
    "g = e+f\n",
    "gradients = Tensor_V1([1, 1, 1, 1, 1])\n",
    "# We apply the gradient to the last element and we'll show how this is propgated backword\n",
    "g.backward(gradients)\n",
    "print(a.grad)\n",
    "print(b.grad)\n",
    "print(c.grad)\n",
    "print(d.grad)\n",
    "print(e.grad)\n",
    "print(f.grad)"
   ]
  },
  {
   "cell_type": "markdown",
   "metadata": {},
   "source": [
    "# Step #3 - Tensors that are used multiple times"
   ]
  },
  {
   "cell_type": "markdown",
   "metadata": {},
   "source": [
    "\n",
    "- The current version of Tensor supports backpropagating into a variable only once. \n",
    "- But sometimes, during forward propagation, you’ll use the same tensor multiple times (the weights of a neural network), and thus multiple parts of the graph will backpropagate gradients into the same tensor.\n",
    "- But the code will currently compute the INCORRECT gradient when backpropagating into a variable that was used multiple times.\n",
    "\n",
""   ]
  },
  {
   "cell_type": "code",
   "execution_count": 377,
   "metadata": {},
   "outputs": [
    {
     "name": "stdout",
     "output_type": "stream",
     "text": [
      "Using method __add__\n",
      "Using method __add__\n",
      "Using method __add__\n",
      "Using method backward\n",
      "Using method backward\n",
      "Using method backward\n",
      "Using method backward\n",
      "Using method backward\n",
      "Using method backward\n",
      "Using method backward\n",
      "[False False False False False]\n",
      "Using method __str__\n",
      "[1 1 1 1 1]\n"
     ]
    }
   ],
   "source": [
    "a = Tensor_V1([1, 2, 3, 4, 5])\n",
    "b = Tensor_V1([2, 2, 2, 2, 2])\n",
    "c = Tensor_V1([5, 4, 3, 2, 1])\n",
    "\n",
    "d = a+b\n",
    "e = b+c\n",
    "f = d+e\n",
    "gradients = Tensor_V1(np.array([1, 1, 1, 1, 1]))\n",
    "f.backward(gradients)\n",
    "# We know that the gradient of b should be [2,2,2,2,2] and not [1,1,1,1,1]\n",
    "print(b.grad.data == np.array([2, 2, 2, 2, 2]))\n",
    "print(b.grad)"
   ]
  },
  {
   "cell_type": "markdown",
   "metadata": {},
   "source": [
    "\n",
    "- In this example, the b variable is used twice in the process of creating f. \n",
    "- Thus, its gradient should be the sum of two derivatives: [2,2,2,2,2]. \n",
    "- Shown here is the resulting graph created by this chain of operations. \n",
    "- Notice there are now two pointers pointing into b: so, it should be the sum of the gradient coming from both e and d. \n",
    "- But the current implementation of Tensor merely overwrites each derivative with the previous. First, d applies  its gradient, and then it gets overwritten with the gradient from e. \n",
    "- We need to change the way gradients are written.\n",
    "\n",
""   ]
  },
  {
   "attachments": {
    "image.png": {
     "image/png": "[encoded data removed]"
    }
   },
   "cell_type": "markdown",
   "metadata": {},
   "source": [
    "![image.png](attachment:image.png)"
   ]
  },
  {
   "cell_type": "code",
   "execution_count": 378,
   "metadata": {},
   "outputs": [],
   "source": [
    "class Tensor_V3 (object):\n",
    "\n",
    "    \"\"\"Tensor class\n",
    "\n",
    "    Stores all the numerical information in a NumPy array (self.data), and it \n",
    "    supports one tensor operation (addition).\n",
    "    \"\"\"\n",
    "\n",
    "    def __init__(self, data,\n",
    "                 autograd=False,\n",
    "                 creators=None,\n",
    "                 creation_op=None,\n",
    "                 id=None):\n",
    "        \"\"\"__init__ method\n",
    "\n",
    "        Given a list makes it into an array\n",
    "        Each tensor has now two new attributes:\n",
    "        creators   :: list containing any tensors used in the creation of the\n",
    "                      current tensor (which defaults to None). \n",
    "        creaion_op :: \n",
    "        \"\"\"\n",
    "        self.data = np.array(data)\n",
    "        self.creation_op = creation_op\n",
    "        self.creators = creators\n",
    "        self.grad = None\n",
    "        self.autograd = autograd\n",
    "        self.children = {}\n",
    "        if(id is None):\n",
    "            id = np.random.randint(0, 100000)\n",
    "        self.id = id\n",
    "\n",
    "        # Keeping track of how many children a tensor has\n",
    "        if(creators is not None):\n",
    "            for c in creators:\n",
    "                if(self.id not in c.children):\n",
    "                    c.children[self.id] = 1\n",
    "                else:\n",
    "                    c.children[self.id] += 1\n",
    "\n",
    "    def all_children_grads_accounted_for(self):\n",
    "        \"\"\"\n",
    "        Checks whether a tensor has received the \n",
    "        correct number of gradients from each child\n",
    "        \"\"\"\n",
    "\n",
    "        for id, cnt in self.children.items():\n",
    "            if(cnt != 0):\n",
    "                return False\n",
    "        return True\n",
    "\n",
    "    def backward(self, grad=None, grad_origin=None):\n",
    "\n",
    "        if(self.autograd):\n",
    "            if(grad_origin is not None):\n",
    "                # Checks to make sure you can backpropagate\n",
    "                # or wheter you are waiting for a gradient\n",
    "                # in which case decrement the counter\n",
    "                if(self.children[grad_origin.id] == 0):\n",
    "                    raise Exception(\"cannot backprop more than once\")\n",
    "                else:\n",
    "                    self.children[grad_origin.id] -= 1\n",
    "\n",
    "            if(self.grad is None):\n",
    "                # Accumulates gradients from several children\n",
    "                self.grad = grad\n",
    "            else:\n",
    "                self.grad += grad\n",
    "\n",
    "            if(self.creators is not None and (self.all_children_grads_accounted_for() or grad_origin is None)):\n",
    "                if(self.creation_op == \"add\"):\n",
    "                    self.creators[0].backward(self.grad, self)\n",
    "                    self.creators[1].backward(self.grad, self)\n",
    "\n",
    "    def __add__(self, other):\n",
    "        \"\"\"__add__ method\n",
    "\n",
    "        “+” is just syntactic sugar around the “__add__” method\n",
    "        so x+y is equivalent to x.__add__(y).\n",
    "\n",
    "        ensors x and y are added together, z has two creators\n",
    "        \"\"\"\n",
    "        if(self.autograd and other.autograd):\n",
    "            return Tensor_V3(self.data + other.data,\n",
    "                             autograd=True,\n",
    "                             creators=[self, other],\n",
    "                             creation_op=\"add\")\n",
    "        return Tensor_V3(self.data + other.data)\n",
    "\n",
    "    def __repr__(self):\n",
    "        \"\"\"__repr__ method\n",
    "        Returns the object representation in string format.\n",
    "        Returns an “official” string representation of the object,\n",
    "        which can be used to construct th eobject again.\n",
    "        \"\"\"\n",
    "        return str(self.data.__repr__())\n",
    "\n",
    "    def __str__(self):\n",
    "        \"\"\"\n",
    "        Returns the string representation of the object. This method is called \n",
    "        when print() or str() function is invoked on an object. Returns a\n",
    "        human-readable format.\n",
    "        \"\"\"\n",
    "        return str(self.data.__str__())"
   ]
  },
  {
   "cell_type": "code",
   "execution_count": 382,
   "metadata": {},
   "outputs": [
    {
     "name": "stdout",
     "output_type": "stream",
     "text": [
      "[ True  True  True  True  True]\n"
     ]
    }
   ],
   "source": [
    "a = Tensor_V3([1, 2, 3, 4, 5], autograd=True)\n",
    "b = Tensor_V3([2, 2, 2, 2, 2], autograd=True)\n",
    "c = Tensor_V3([5, 4, 3, 2, 1], autograd=True)\n",
    "d = a + b\n",
    "e = b + c\n",
    "f = d + e\n",
    "f.backward(Tensor(np.array([1, 1, 1, 1, 1])))\n",
    "print(b.grad.data == np.array([2, 2, 2, 2, 2]))"
   ]
  },
  {
   "cell_type": "markdown",
   "metadata": {},
   "source": [
    "\n",
    "- Additionally, you create a self.children counter that counts the number of gradients received from each  child during backpropagation. \n",
    "- This way, you also prevent a variable from accidentally backpropagating from the same child twice (which throws an exception).\n",
    "- The second added feature is a new function with the rather verbose name all_children_ grads_accounted_for(). \n",
    "- The purpose of this function is to compute whether a tensor has received gradients from all of its children in the graph. \n",
    "- Normally, whenever .backward() is called on an intermediate variable in a graph, it immediately calls .backward() on its parents. But because some variables receive their gradient value from multiple parents, each\n",
    "variable needs to wait to call .backward() on its parents until it has the final gradient locally.\n",
    "\n",
""   ]
  },
  {
   "cell_type": "markdown",
   "metadata": {},
   "source": [
    "# Step #4 - Adding support for additional functions"
   ]
  },
  {
   "cell_type": "code",
   "execution_count": 24,
   "metadata": {},
   "outputs": [],
   "source": [
    "class Tensor_V4(object):\n",
    "\n",
    "    \"\"\"Tensor class\n",
    "\n",
    "    Stores all the numerical information in a NumPy array (self.data), and it \n",
    "    supports one tensor operation (addition).\n",
    "    \"\"\"\n",
    "\n",
    "    def __init__(self, data,\n",
    "                 autograd=False,\n",
    "                 creators=None,\n",
    "                 creation_op=None,\n",
    "                 id=None):\n",
    "        \"\"\"__init__ method\n",
    "\n",
    "        Given a list makes it into an array\n",
    "        Each tensor has now two new attributes:\n",
    "        creators   :: list containing any tensors used in the creation of the\n",
    "                      current tensor (which defaults to None). \n",
    "        creaion_op :: \n",
    "        \"\"\"\n",
    "        self.data = np.array(data)\n",
    "        self.creation_op = creation_op\n",
    "        self.creators = creators\n",
    "        self.grad = None\n",
    "        self.autograd = autograd\n",
    "        self.children = {}\n",
    "        if(id is None):\n",
    "            id = np.random.randint(0, 100000)\n",
    "        self.id = id\n",
    "\n",
    "        # Keeping track of how many children a tensor has\n",
    "        if(creators is not None):\n",
    "            for c in creators:\n",
    "                if(self.id not in c.children):\n",
    "                    c.children[self.id] = 1\n",
    "                else:\n",
    "                    c.children[self.id] += 1\n",
    "\n",
    "    def all_children_grads_accounted_for(self):\n",
    "        \"\"\"\n",
    "        Checks whether a tensor has received the \n",
    "        correct number of gradients from each child\n",
    "        \"\"\"\n",
    "\n",
    "        for id, cnt in self.children.items():\n",
    "            if(cnt != 0):\n",
    "                return False\n",
    "        return True\n",
    "\n",
    "    def backward(self, grad=None, grad_origin=None):\n",
    "\n",
    "        if(self.autograd):\n",
    "            if(grad_origin is not None):\n",
    "                # Checks to make sure you can backpropagate\n",
    "                # or wheter you are waiting for a gradient\n",
    "                # in which case decrement the counter\n",
    "                if(self.children[grad_origin.id] == 0):\n",
    "                    raise Exception(\"cannot backprop more than once\")\n",
    "                else:\n",
    "                    self.children[grad_origin.id] -= 1\n",
    "\n",
    "            if(self.grad is None):\n",
    "                # Accumulates gradients from several children\n",
    "                self.grad = grad\n",
    "            else:\n",
    "                self.grad += grad\n",
    "\n",
    "            if(self.creators is not None and (self.all_children_grads_accounted_for() or grad_origin is None)):\n",
    "                if(self.creation_op == \"add\"):\n",
    "                    self.creators[0].backward(self.grad, self)\n",
    "                    self.creators[1].backward(self.grad, self)\n",
    "\n",
    "                if(self.creation_op == \"neg\"):\n",
    "                    self.creators[0].backward(self.grad.__neg__())\n",
    "\n",
    "                if(self.creation_op == \"sub\"):\n",
    "                    new = Tensor_V4(self.grad.data)\n",
    "                    self.creators[0].backward(new, self)\n",
    "                    new = Tensor_V4(self.grad.__neg__().data)\n",
    "                    self.creators[1].backward(new, self)\n",
    "\n",
    "                if(self.creation_op == \"mul\"):\n",
    "                    new = self.grad * self.creators[1]\n",
    "                    self.creators[0].backward(new, self)\n",
    "                    new = self.grad * self.creators[0]\n",
    "                    self.creators[1].backward(new, self)\n",
    "\n",
    "                if(self.creation_op == \"mm\"):\n",
    "                    act = self.creators[0]\n",
    "                    weights = self.creators[1]\n",
    "                    new = self.grad.mm(weights.transpose())\n",
    "                    act.backward(new)\n",
    "                    new = self.grad.transpose().mm(act).transpose()\n",
    "                    weights.backward(new)\n",
    "\n",
    "                if(self.creation_op == \"transpose\"):\n",
    "                    self.creators[0].backward(self.grad.transpose())\n",
    "\n",
    "                if(\"sum\" in self.creation_op):\n",
    "                    dim = int(self.creation_op.split(\"_\")[1])\n",
    "                    ds = self.creators[0].data.shape[dim]\n",
    "                    self.creators[0].backward(self.grad.expand(dim, ds))\n",
    "\n",
    "                if(\"expand\" in self.creation_op):\n",
    "                    dim = int(self.creation_op.split(\"_\")[1])\n",
    "                    self.creators[0].backward(self.grad.sum(dim))\n",
    "\n",
    "    def __add__(self, other):\n",
    "        \"\"\"__add__ method\n",
    "\n",
    "        “+” is just syntactic sugar around the “__add__” method\n",
    "        so x+y is equivalent to x.__add__(y).\n",
    "\n",
    "        ensors x and y are added together, z has two creators\n",
    "        \"\"\"\n",
    "        if(self.autograd and other.autograd):\n",
    "            return Tensor_V4(self.data + other.data,\n",
    "                             autograd=True,\n",
    "                             creators=[self, other],\n",
    "                             creation_op=\"add\")\n",
    "        return Tensor_V4(self.data + other.data)\n",
    "\n",
    "    def __neg__(self):\n",
    "        if(self.autograd):\n",
    "            return Tensor_V4(self.data * -1,\n",
    "                             autograd=True,\n",
    "                             creators=[self],\n",
    "                             creation_op=\"neg\")\n",
    "        return Tensor_V4(self.data * -1)\n",
    "\n",
    "    def __sub__(self, other):\n",
    "        if(self.autograd and other.autograd):\n",
    "            return Tensor_V4(self.data - other.data,\n",
    "                             autograd=True,\n",
    "                             creators=[self, other],\n",
    "                             creation_op=\"sub\")\n",
    "        return Tensor_V4(self.data - other.data)\n",
    "\n",
    "    def __mul__(self, other):\n",
    "        if(self.autograd and other.autograd):\n",
    "            return Tensor_V4(self.data * other.data,\n",
    "                             autograd=True,\n",
    "                             creators=[self, other],\n",
    "                             creation_op=\"mul\")\n",
    "        return Tensor_V4(self.data * other.data)\n",
    "\n",
    "    def sum(self, dim):\n",
    "        if(self.autograd):\n",
    "            return Tensor_V4(self.data.sum(dim),\n",
    "                             autograd=True,\n",
    "                             creators=[self],\n",
    "                             creation_op=\"sum_\"+str(dim))\n",
    "        return Tensor_V4(self.data.sum(dim))\n",
    "\n",
    "    def expand(self, dim, copies):\n",
    "        trans_cmd = list(range(0, len(self.data.shape)))\n",
    "        trans_cmd.insert(dim, len(self.data.shape))\n",
    "        new_shape = list(self.data.shape) + [copies]\n",
    "        new_data = self.data.repeat(copies).reshape(new_shape)\n",
    "\n",
    "        new_data = new_data.transpose(trans_cmd)\n",
    "        if(self.autograd):\n",
    "            return Tensor_V4(new_data,\n",
    "                             autograd=True,\n",
    "                             creators=[self],\n",
    "                             creation_op=\"expand_\"+str(dim))\n",
    "        return Tensor_V4(new_data)\n",
    "\n",
    "    def transpose(self):\n",
    "        if(self.autograd):\n",
    "            return Tensor_V4(self.data.transpose(),\n",
    "                             autograd=True,\n",
    "                             creators=[self],\n",
    "                             creation_op=\"transpose\")\n",
    "        return Tensor_V4(self.data.transpose())\n",
    "\n",
    "    def mm(self, x):\n",
    "        if(self.autograd):\n",
    "            return Tensor_V4(self.data.dot(x.data),\n",
    "                             autograd=True,\n",
    "                             creators=[self, x],\n",
    "                             creation_op=\"mm\")\n",
    "        return Tensor_V4(self.data.dot(x.data))\n",
    "\n",
    "    def __repr__(self):\n",
    "        \"\"\"__repr__ method\n",
    "        Returns the object representation in string format.\n",
    "        Returns an “official” string representation of the object,\n",
    "        which can be used to construct th eobject again.\n",
    "        \"\"\"\n",
    "        return str(self.data.__repr__())\n",
    "\n",
    "    def __str__(self):\n",
    "        \"\"\"\n",
    "        Returns the string representation of the object. This method is called \n",
    "        when print() or str() function is invoked on an object. Returns a\n",
    "        human-readable format.\n",
    "        \"\"\"\n",
    "        return str(self.data.__str__())"
   ]
  },
  {
   "cell_type": "code",
   "execution_count": 25,
   "metadata": {},
   "outputs": [
    {
     "name": "stdout",
     "output_type": "stream",
     "text": [
      "[ True  True  True  True  True]\n"
     ]
    }
   ],
   "source": [
    "a = Tensor_V4([1,2,3,4,5], autograd=True) \n",
    "b = Tensor_V4([2,2,2,2,2], autograd=True) \n",
    "c = Tensor_V4([5,4,3,2,1], autograd=True)\n",
    "d = a + (-b) \n",
    "e = (-b) + c \n",
    "f=d+e\n",
    "f.backward(Tensor_V4(np.array([1,1,1,1,1]))) \n",
    "print(b.grad.data == np.array([-2,-2,-2,-2,-2]))"
   ]
  },
  {
   "cell_type": "markdown",
   "metadata": {},
   "source": [
    "# Step #5 - Compared against a manually derived back propagation"
   ]
  },
  {
   "cell_type": "markdown",
   "metadata": {},
   "source": [
    "\n",
    "- We'll now manually implement the back propagation and compared it against the one implemented in the class.\n",
    "- `data` has shape 4x2\n",
    "- `target` has shape 4x1\n",
    "- `weights_0_1` has shape 2x3. Please note that 2 is because we have two features and 3 could have been different.\n",
    "- `weights_1_2` has shape 3x1. Please note that that 1 is because the target has only one column and 3 is because the previous layer has 3 columns.\n",
    "\n",
""   ]
  },
  {
   "cell_type": "code",
   "execution_count": 66,
   "metadata": {
    "scrolled": true
   },
   "outputs": [
    {
     "name": "stdout",
     "output_type": "stream",
     "text": [
      "Data shape (4, 2)\n",
      "Target shape (4, 1)\n",
      "First weight layer shape (2, 3)\n",
      "Second weight layer shape (3, 1)\n",
      "\n",
      "Iteration No:  0\n",
      "Start forward pass\n",
      "In (4, 2) (2, 3)  Out (4, 3)\n",
      "In (4, 3) (3, 1)  Out (4, 1)\n",
      "Compute loss\n",
      "In (4, 1) (4, 1)  Out (4, 1)\n",
      "Start backward pass\n",
      "In  (4, 1) (1, 3)  Out (4, 3)\n",
      "In  (3, 4) (4, 1)  Out (3, 1)\n",
      "In  (2, 4) (4, 3)  Out (2, 3)\n",
      "Loss:  5.066439994622395\n",
      "***************\n",
      "Iteration No:  1\n",
      "Loss:  0.4959907791902342\n",
      "***************\n",
      "Iteration No:  2\n",
      "Loss:  0.4180671892167177\n",
      "***************\n",
      "Iteration No:  3\n",
      "Loss:  0.35298133007809646\n",
      "***************\n",
      "Iteration No:  4\n",
      "Loss:  0.2972549636567377\n",
      "***************\n",
      "Iteration No:  5\n",
      "Loss:  0.2492326038163328\n",
      "***************\n",
      "Iteration No:  6\n",
      "Loss:  0.20785392075862477\n",
      "***************\n",
      "Iteration No:  7\n",
      "Loss:  0.17231260916265176\n",
      "***************\n",
      "Iteration No:  8\n",
      "Loss:  0.14193744536652986\n",
      "***************\n",
      "Iteration No:  9\n",
      "Loss:  0.11613979792168384\n",
      "***************\n",
      "Final prediction: [[0.        ]\n",
      " [0.79896057]\n",
      " [0.23044545]\n",
      " [1.02940602]]\n"
     ]
    }
   ],
   "source": [
    "np.random.seed(0)\n",
    "\n",
    "\n",
    "# Define data & target\n",
    "data = np.array([[0,0],[0,1],[1,0],[1,1]]) \n",
    "target = np.array([[0],[1],[0],[1]])\n",
    "\n",
    "print(\"Data shape\", data.shape)\n",
    "print(\"Target shape\", target.shape)\n",
    "\n",
    "# Definie initial weight matrix\n",
    "weights_0_1 = np.random.rand(2,3) \n",
    "weights_1_2 = np.random.rand(3,1)\n",
    "\n",
    "\n",
    "print(\"First weight layer shape\", weights_0_1.shape)\n",
    "print(\"Second weight layer shape\", weights_1_2.shape)\n",
    "print(\"\")\n",
    "\n",
    "# The print statement helps you check the dimensions of matrices and vectors\n",
    "for i in range(10):\n",
    "    print(\"Iteration No: \", i)\n",
    "          \n",
    "    # Step #1 - PREDICT (forward pass essentially)\n",
    "    if i == 0: print(\"Start forward pass\")\n",
    "    layer_1 = data.dot(weights_0_1)\n",
    "    if i == 0: print(\"In\", data.shape, weights_0_1.shape, \" Out\", layer_1.shape)\n",
    "    layer_2 = layer_1.dot(weights_1_2)\n",
    "    if i == 0: print(\"In\", layer_1.shape, weights_1_2.shape, \" Out\", layer_2.shape)\n",
    "    \n",
    "    \n",
    "    # Step #2 - COMPARE - COMPUTE THE LOSS\n",
    "    if i == 0: print(\"Compute loss\")\n",
    "    diff = (layer_2 - target) \n",
    "    if i == 0: print(\"In\", layer_2.shape, target.shape, \" Out\", diff.shape)\n",
    "    # Compute the squared loss, this is a scalar\n",
    "    loss = np.sum(diff*diff)         \n",
    "    \n",
    "    # Step #3 - BACK PROPAGATION\n",
    "    if i == 0: print(\"Start backward pass\")\n",
    "    layer_1_grad = diff.dot(weights_1_2.transpose()) \n",
    "    if i == 0: print(\"In \", diff.shape, weights_1_2.transpose().shape, \" Out\", layer_1_grad.shape)    \n",
    "    \n",
    "    weight_1_2_update = layer_1.transpose().dot(diff)\n",
    "    if i == 0: print(\"In \", layer_1.transpose().shape, diff.shape, \" Out\", weight_1_2_update.shape)    \n",
    "    \n",
    "    weight_0_1_update = data.transpose().dot(layer_1_grad)\n",
    "    if i == 0: print(\"In \", data.transpose().shape, layer_1_grad.shape, \" Out\", weight_0_1_update.shape)    \n",
    "    \n",
    "    learningRate = 0.1\n",
    "    weights_1_2 -= weight_1_2_update * learningRate\n",
    "    weights_0_1 -= weight_0_1_update * learningRate\n",
    "    print(\"Loss: \", loss)\n",
    "    print(\"***************\")\n",
    "\n",
    "layer_1 = data.dot(weights_0_1)    \n",
    "layer_2 = layer_1.dot(weights_1_2)    \n",
    "print(\"Final prediction:\", layer_2)"
   ]
  },
  {
   "cell_type": "markdown",
   "metadata": {},
   "source": [
    "\n",
    "- Now let's use the framework we built.\n",
    "- We'll use exactly the same input.\n",
    "\n",
""   ]
  },
  {
   "cell_type": "code",
   "execution_count": 86,
   "metadata": {},
   "outputs": [
    {
     "name": "stdout",
     "output_type": "stream",
     "text": [
      "Data shape (4, 2)\n",
      "Target shape (4, 1)\n",
      "[[0.5488135  0.71518937 0.60276338]\n",
      " [0.54488318 0.4236548  0.64589411]]\n",
      "Iteration No:  0  loss:  [5.06643999]\n",
      "Iteration No:  1  loss:  [1.72520804]\n",
      "Iteration No:  2  loss:  [0.97072979]\n",
      "Iteration No:  3  loss:  [0.44845782]\n",
      "Iteration No:  4  loss:  [0.19705058]\n",
      "Iteration No:  5  loss:  [0.11889682]\n",
      "Iteration No:  6  loss:  [0.07853709]\n",
      "Iteration No:  7  loss:  [0.05072462]\n",
      "Iteration No:  8  loss:  [0.03190534]\n",
      "Iteration No:  9  loss:  [0.01958509]\n"
     ]
    }
   ],
   "source": [
    "np.random.seed(0)\n",
    "\n",
    "# Define data & target\n",
    "data = np.array([[0,0],[0,1],[1,0],[1,1]]) \n",
    "target = np.array([[0],[1],[0],[1]])\n",
    "\n",
    "print(\"Data shape\", data.shape)\n",
    "print(\"Target shape\", target.shape)\n",
    "\n",
    "# Definie initial weight matrix\n",
    "weights_0_1 = np.random.rand(2,3) \n",
    "weights_1_2 = np.random.rand(3,1)\n",
    "\n",
    "data = Tensor_V4(data, autograd=True) \n",
    "target = Tensor_V4(target, autograd=True)\n",
    "\n",
    "w = list()\n",
    "print(weights_0_1_orig)\n",
    "w.append(Tensor_V4(weights_0_1, autograd=True)) \n",
    "w.append(Tensor_V4(weights_1_2, autograd=True))\n",
    "\n",
    "for i in range(10):\n",
    "    \n",
    "    # Step #1 - PREDICT\n",
    "    pred = data.mm(w[0]).mm(w[1])\n",
    "    \n",
    "    # Step #2 - COMPARE\n",
    "    loss = ((pred - target)*(pred - target)).sum(0) \n",
    "    print(\"Iteration No: \",i, \" loss: \", loss)\n",
    "    \n",
    "    # Step #3 - BACK PROPAGATION\n",
    "    loss.backward(Tensor_V4(np.ones_like(loss.data)))\n",
    "    \n",
    "    # Step #4 - UPDATE WEIGHTS\n",
    "    for w_ in w:\n",
    "        w_.data -= w_.grad.data * 0.1 \n",
    "        w_.grad.data *= 0\n",
    "    "
   ]
  },
  {
   "cell_type": "markdown",
   "metadata": {},
   "source": [
    "# Step #6 - Stochastic gradient descent optimizer"
   ]
  },
  {
   "cell_type": "markdown",
   "metadata": {},
   "source": [
    "\n",
    "- We'd like to further abstarct the weights update by writing a class. Nothing too complicated. Just rewriting with a bit of good, old-fashioned object-oriented programming.\n",
    "- In this way the update we wrote earlier can be further simplified.\n",
    "\n",
""   ]
  },
  {
   "cell_type": "code",
   "execution_count": 87,
   "metadata": {},
   "outputs": [],
   "source": [
    "class SGD(object):\n",
    "    def __init__(self, parameters, alpha = 0.1): \n",
    "        self.parameters = parameters \n",
    "        self.alpha = alpha\n",
    "    def zero(self):\n",
    "        for p in self.parameters:\n",
    "            p.grad.data *= 0 \n",
    "    def step(self, zero=True):\n",
    "        for p in self.parameters:\n",
    "            p.data -= p.grad.data * self.alpha\n",
    "            if(zero):\n",
    "                p.grad.data *= 0"
   ]
  },
  {
   "cell_type": "code",
   "execution_count": 93,
   "metadata": {},
   "outputs": [
    {
     "name": "stdout",
     "output_type": "stream",
     "text": [
      "Iteration No:  0  loss:  [5.06643999]\n",
      "Iteration No:  1  loss:  [1.72520804]\n",
      "Iteration No:  2  loss:  [0.97072979]\n",
      "Iteration No:  3  loss:  [0.44845782]\n",
      "Iteration No:  4  loss:  [0.19705058]\n",
      "Iteration No:  5  loss:  [0.11889682]\n",
      "Iteration No:  6  loss:  [0.07853709]\n",
      "Iteration No:  7  loss:  [0.05072462]\n",
      "Iteration No:  8  loss:  [0.03190534]\n",
      "Iteration No:  9  loss:  [0.01958509]\n"
     ]
    }
   ],
   "source": [
    "np.random.seed(0)\n",
    "data = Tensor_V4(np.array([[0,0],[0,1],[1,0],[1,1]]), autograd=True) \n",
    "target = Tensor_V4(np.array([[0],[1],[0],[1]]), autograd=True)\n",
    "\n",
    "w = list()\n",
    "w.append(Tensor_V4(weights_0_1, autograd=True)) \n",
    "w.append(Tensor_V4(weights_1_2, autograd=True))\n",
    "\n",
    "optim = SGD(parameters=w, alpha=0.1) \n",
    "for i in range(10):\n",
    "    \n",
    "            \n",
    "    # Step #1 - PREDICT\n",
    "    pred = data.mm(w[0]).mm(w[1])    \n",
    "    # Step #2 - COMPARE\n",
    "    loss = ((pred - target)*(pred - target)).sum(0) \n",
    "    # Step #3 - BACK PROPAGATION\n",
    "    loss.backward(Tensor_V4(np.ones_like(loss.data)))\n",
    "    \n",
    "    #---------NEW PART--------\n",
    "    # Step #4 - UPDATE WEIGHTS BUY ABSTACTED \n",
    "    optim.step()\n",
    "    print(\"Iteration No: \",i, \" loss: \", loss)"
   ]
  },
  {
   "cell_type": "markdown",
   "metadata": {},
   "source": [
    "# Step #7 - Adding suppot for layers"
   ]
  },
  {
   "cell_type": "markdown",
   "metadata": {},
   "source": [
    "\n",
    "- Layers are everywhere in Keras or PyTorch, they are implemented in a way that most of the heavy lifting is abstracted away. This makes them very easy to use. \n",
    "- **Layer abstraction** is a collection of commonly used forward propagation techniques packaged into an simple\n",
    "API with some kind of .forward() method to call them. \n",
    "- I created an **abstract class** `Layer`, which has a single getter. This allows for more-complicated layer \n",
    "types (such as layers containing other layers). All you need to do is override `get_parameters()` to \n",
    "control what tensors are later passed to the optimizer (such as the SGD class created in the previous \n",
    "section).\n",
    "\n",
""   ]
  },
  {
   "cell_type": "code",
   "execution_count": 94,
   "metadata": {},
   "outputs": [],
   "source": [
    "class Layer(object):\n",
    "    def __init__(self): \n",
    "        self.parameters = list()\n",
    "    def get_parameters(self): \n",
    "        return self.parameters"
   ]
  },
  {
   "cell_type": "code",
   "execution_count": 95,
   "metadata": {},
   "outputs": [],
   "source": [
    "class Linear(Layer):\n",
    "    \n",
    "    def __init__(self, n_inputs, n_outputs):\n",
    "        super().__init__()\n",
    "        # Weights initialisation\n",
    "        W = np.random.randn(n_inputs, n_outputs)*np.sqrt(2.0/(n_inputs)) \n",
    "        self.weight = Tensor_V4(W, autograd = True)\n",
    "        self.bias = Tensor_V4(np.zeros(n_outputs), autograd = True)\n",
    "        self.parameters.append(self.weight) \n",
    "        self.parameters.append(self.bias)\n",
    "    \n",
    "    def forward(self, input):\n",
    "        return input.mm(self.weight)+self.bias.expand(0, len(input.data))"
   ]
  },
  {
   "cell_type": "markdown",
   "metadata": {},
   "source": [
    "# Step #8 - Sequential architecture"
   ]
  },
  {
   "cell_type": "markdown",
   "metadata": {},
   "source": [
    "\n",
    "- The most popular architecture is a sequential layer \n",
    "- A sequential architecture forward propagates a list of layers, where each layer feeds its outputs into the inputs of the next layer. \n",
    "- Anther type of architecture is RNNs (Recurrent Neural Network)\n",
    "\n",
""   ]
  },
  {
   "cell_type": "code",
   "execution_count": 96,
   "metadata": {},
   "outputs": [],
   "source": [
    "class Sequential(Layer):\n",
    "    \n",
    "    def __init__(self, layers=list()): \n",
    "        super().__init__()\n",
    "        self.layers = layers\n",
    "    \n",
    "    def add(self, layer): \n",
    "        self.layers.append(layer)\n",
    "    \n",
    "    def forward(self, input):\n",
    "        for layer in self.layers:\n",
    "            input = layer.forward(input) \n",
    "        return input\n",
    "    \n",
    "    def get_parameters(self): \n",
    "        params = list()\n",
    "        for l in self.layers:\n",
    "            params += l.get_parameters()\n",
    "        return params"
   ]
  },
  {
   "cell_type": "markdown",
   "metadata": {},
   "source": [
    "\n",
    "- Now that we have all this fancy OOP classes and methods, we are going back to our toy example.\n",
    "- This is to show how neatly we can write this. Generally neatly translates to: editable and short.\n",
    "- The results are NOT the same because inside the class `Linear()` we have intialised the weights in a different way.\n",
    "\n",
""   ]
  },
  {
   "cell_type": "code",
   "execution_count": 97,
   "metadata": {},
   "outputs": [],
   "source": [
    "np.random.seed(0)\n",
    "data = Tensor_V4(np.array([[0,0],[0,1],[1,0],[1,1]]), autograd=True) \n",
    "target = Tensor_V4(np.array([[0],[1],[0],[1]]), autograd=True)"
   ]
  },
  {
   "cell_type": "code",
   "execution_count": 99,
   "metadata": {},
   "outputs": [
    {
     "name": "stdout",
     "output_type": "stream",
     "text": [
      "[8.42951511]\n",
      "[15.70905316]\n",
      "[0.89190469]\n",
      "[0.16865993]\n",
      "[0.09771623]\n",
      "[0.05654691]\n",
      "[0.03260814]\n",
      "[0.01875125]\n",
      "[0.01076785]\n",
      "[0.00618446]\n"
     ]
    }
   ],
   "source": [
    "model = Sequential([Linear(2,3), Linear(3,1)])\n",
    "optim = SGD(parameters = model.get_parameters(), alpha = 0.05)\n",
    "\n",
    "for i in range(10):\n",
    "    pred = model.forward(data)\n",
    "    loss = ((pred - target)*(pred - target)).sum(0)\n",
    "    loss.backward(Tensor_V4(np.ones_like(loss.data))) \n",
    "    optim.step()\n",
    "    print(loss)"
   ]
  },
  {
   "cell_type": "markdown",
   "metadata": {},
   "source": [
    "# Step 9 - Loss function"
   ]
  },
  {
   "cell_type": "markdown",
   "metadata": {},
   "source": [
    "\n",
    "- You can also create layers that are functions on the input. \n",
    "- The most popular version of this kind of layer is probably the loss-function layer, such as mean squared error:\n",
    "\n",
""   ]
  },
  {
   "cell_type": "code",
   "execution_count": 112,
   "metadata": {},
   "outputs": [],
   "source": [
    "class MSELoss(Layer):\n",
    "    \n",
    "    def __init__(self):\n",
    "        \"\"\"\n",
    "        super() allows you to get access to the methods\n",
    "        if the inherited class Layer\n",
    "        \"\"\"\n",
    "        super().__init__()\n",
    "    \n",
    "    def forward(self, pred, target):\n",
    "        return ((pred - target)*(pred - target)).sum(0)"
   ]
  },
  {
   "cell_type": "code",
   "execution_count": 113,
   "metadata": {},
   "outputs": [],
   "source": [
    "np.random.seed(0)\n",
    "data = Tensor_V4(np.array([[0,0],[0,1],[1,0],[1,1]]), autograd=True) \n",
    "target = Tensor_V4(np.array([[0],[1],[0],[1]]), autograd=True)"
   ]
  },
  {
   "cell_type": "code",
   "execution_count": 115,
   "metadata": {},
   "outputs": [
    {
     "name": "stdout",
     "output_type": "stream",
     "text": [
      "[3.38617359]\n",
      "[1.55744639]\n",
      "[0.81051793]\n",
      "[0.43579924]\n",
      "[0.2427959]\n",
      "[0.13654357]\n",
      "[0.07732922]\n",
      "[0.04422531]\n",
      "[0.02567524]\n",
      "[0.01520718]\n"
     ]
    }
   ],
   "source": [
    "model = Sequential([Linear(2,3), Linear(3,1)])\n",
    "criterion = MSELoss()\n",
    "optim = SGD(parameters=model.get_parameters(), alpha=0.05)\n",
    "\n",
    "for i in range(10):\n",
    "    # Predict\n",
    "    pred = model.forward(data)\n",
    "    # Compare\n",
    "    loss = criterion.forward(pred, target)\n",
    "    # Learn\n",
    "    loss.backward(Tensor_V4(np.ones_like(loss.data))) \n",
    "    optim.step()\n",
    "    print(loss)"
   ]
  },
  {
   "cell_type": "markdown",
   "metadata": {},
   "source": [
    "# Step 10 - Nonlinearity layers"
   ]
  },
  {
   "cell_type": "markdown",
   "metadata": {},
   "source": [
    "\n",
    "-  Let's add some non-linear ativation functions:\n",
    "    - `sigmoid()` \n",
    "    - `tanh()`\n",
    "\n",
""   ]
  },
  {
   "cell_type": "code",
   "execution_count": 129,
   "metadata": {},
   "outputs": [],
   "source": [
    "class Tensor_V5 (object):\n",
    "    \n",
    "    \"\"\"Tensor class\n",
    "    \n",
    "    Stores all the numerical information in a NumPy array (self.data), and it \n",
    "    supports one tensor operation (addition).\n",
    "    \"\"\"\n",
    "    \n",
    "    def __init__(self, data, \n",
    "                 autograd=False,\n",
    "                 creators=None, \n",
    "                 creation_op=None,\n",
    "                id=None):\n",
    "        \n",
    "        \"\"\"__init__ method\n",
    "        \n",
    "        Given a list makes it into an array\n",
    "        Each tensor has now two new attributes:\n",
    "        creators   :: list containing any tensors used in the creation of the\n",
    "                      current tensor (which defaults to None). \n",
    "        creaion_op :: \n",
    "        \"\"\"\n",
    "        self.data = np.array(data)\n",
    "        self.creation_op = creation_op\n",
    "        self.creators = creators\n",
    "        self.grad = None\n",
    "        self.autograd = autograd \n",
    "        self.children = {}\n",
    "        if(id is None):\n",
    "            id = np.random.randint(0,100000)\n",
    "        self.id = id\n",
    "        \n",
    "        # Keeping track of how many children a tensor has\n",
    "        if(creators is not None): \n",
    "            for c in creators:\n",
    "                if(self.id not in c.children): \n",
    "                    c.children[self.id] = 1\n",
    "                else:\n",
    "                    c.children[self.id] += 1\n",
    "    \n",
    "    def all_children_grads_accounted_for(self):\n",
    "        \"\"\"\n",
    "        Checks whether a tensor has received the \n",
    "        correct number of gradients from each child\n",
    "        \"\"\"\n",
    "\n",
    "        for id,cnt in self.children.items():\n",
    "            if(cnt != 0):\n",
    "                return False\n",
    "        return True        \n",
    "\n",
    "    \n",
    "    def backward(self, grad=None, grad_origin=None):\n",
    "        \n",
    "        if(self.autograd):\n",
    "            if(grad_origin is not None): \n",
    "                # Checks to make sure you can backpropagate\n",
    "                # or wheter you are waiting for a gradient\n",
    "                # in which case decrement the counter\n",
    "                if(self.children[grad_origin.id] == 0):\n",
    "                    raise Exception(\"cannot backprop more than once\")\n",
    "                else:\n",
    "                    self.children[grad_origin.id] -= 1\n",
    "\n",
    "            if(self.grad is None): \n",
    "                # Accumulates gradients from several children\n",
    "                self.grad = grad\n",
    "            else:\n",
    "                self.grad += grad\n",
    "                \n",
    "            if(self.creators is not None and (self.all_children_grads_accounted_for() or grad_origin is None)):    \n",
    "                if(self.creation_op == \"add\"):        \n",
    "                    self.creators[0].backward(self.grad, self) \n",
    "                    self.creators[1].backward(self.grad, self)\n",
    "\n",
    "                if(self.creation_op == \"neg\"): \n",
    "                    self.creators[0].backward(self.grad.__neg__()) \n",
    "                    \n",
    "                if(self.creation_op == \"sub\"):\n",
    "                    new = Tensor_V5(self.grad.data) \n",
    "                    self.creators[0].backward(new, self) \n",
    "                    new = Tensor_V5(self.grad.__neg__().data) \n",
    "                    self.creators[1].backward(new, self)\n",
    "\n",
    "                if(self.creation_op == \"mul\"):\n",
    "                    new = self.grad * self.creators[1] \n",
    "                    self.creators[0].backward(new , self) \n",
    "                    new = self.grad * self.creators[0] \n",
    "                    self.creators[1].backward(new, self)\n",
    "\n",
    "                if(self.creation_op == \"mm\"):\n",
    "                    act = self.creators[0]\n",
    "                    weights = self.creators[1]\n",
    "                    new = self.grad.mm(weights.transpose()) \n",
    "                    act.backward(new)\n",
    "                    new = self.grad.transpose().mm(act).transpose() \n",
    "                    weights.backward(new)\n",
    "                    \n",
    "                if(self.creation_op == \"transpose\"): \n",
    "                    self.creators[0].backward(self.grad.transpose())\n",
    "                \n",
    "                if(\"sum\" in self.creation_op):\n",
    "                    dim = int(self.creation_op.split(\"_\")[1])\n",
    "                    ds = self.creators[0].data.shape[dim] \n",
    "                    self.creators[0].backward(self.grad.expand(dim,ds))\n",
    "                \n",
    "                if(\"expand\" in self.creation_op):\n",
    "                    dim = int(self.creation_op.split(\"_\")[1]) \n",
    "                    self.creators[0].backward(self.grad.sum(dim))\n",
    "\n",
    "                if(self.creation_op == \"sigmoid\"):\n",
    "                    ones = Tensor_V5(np.ones_like(self.grad.data)) \n",
    "                    self.creators[0].backward(self.grad * (self * (ones - self)))\n",
    "                \n",
    "                if(self.creation_op == \"tanh\"):\n",
    "                    ones = Tensor_V5(np.ones_like(self.grad.data)) \n",
    "                    self.creators[0].backward(self.grad * (ones - (self * self)))\n",
    "\n",
    "    def __add__(self, other):\n",
    "        \n",
    "        \"\"\"__add__ method\n",
    "        \n",
    "        “+” is just syntactic sugar around the “__add__” method\n",
    "        so x+y is equivalent to x.__add__(y).\n",
    "        \n",
    "        ensors x and y are added together, z has two creators\n",
    "        \"\"\"\n",
    "        if(self.autograd and other.autograd):\n",
    "            return Tensor_V5(self.data + other.data, \n",
    "                          autograd=True,\n",
    "                          creators=[self,other], \n",
    "                          creation_op=\"add\" )\n",
    "        return Tensor_V5(self.data + other.data)\n",
    "    \n",
    "    def __neg__(self): \n",
    "        if(self.autograd):\n",
    "            return Tensor_V5(self.data * -1, \n",
    "                          autograd=True,\n",
    "                          creators=[self],\n",
    "                          creation_op=\"neg\")\n",
    "        return Tensor_V5(self.data * -1)\n",
    "\n",
    "    def __sub__(self, other):\n",
    "        if(self.autograd and other.autograd):\n",
    "            return Tensor_V5(self.data - other.data, \n",
    "                          autograd=True,\n",
    "                          creators=[self,other],\n",
    "                          creation_op=\"sub\") \n",
    "        return Tensor_V5(self.data - other.data)\n",
    "\n",
    "    def __mul__(self, other): \n",
    "        if(self.autograd and other.autograd):\n",
    "            return Tensor_V5(self.data * other.data, \n",
    "                          autograd=True,\n",
    "                          creators=[self,other],\n",
    "                          creation_op=\"mul\") \n",
    "        return Tensor_V5(self.data * other.data)\n",
    "    \n",
    "    def sum(self, dim): \n",
    "        if(self.autograd):\n",
    "            return Tensor_V5(self.data.sum(dim), \n",
    "                          autograd=True,\n",
    "                          creators=[self],\n",
    "                          creation_op=\"sum_\"+str(dim)) \n",
    "        return Tensor_V5(self.data.sum(dim))\n",
    "    \n",
    "    def expand(self, dim,copies):\n",
    "        trans_cmd = list(range(0,len(self.data.shape))) \n",
    "        trans_cmd.insert(dim,len(self.data.shape))\n",
    "        new_shape = list(self.data.shape) + [copies]\n",
    "        new_data = self.data.repeat(copies).reshape(new_shape) \n",
    "        \n",
    "        new_data = new_data.transpose(trans_cmd)\n",
    "        if(self.autograd):\n",
    "            return Tensor_V5(new_data,\n",
    "                          autograd=True,\n",
    "                          creators=[self],\n",
    "                          creation_op = \"expand_\" + str(dim))\n",
    "        return Tensor_V5(new_data)\n",
    "    \n",
    "    def transpose(self): \n",
    "        if(self.autograd):\n",
    "            return Tensor_V5(self.data.transpose(),\n",
    "                          autograd=True,\n",
    "                          creators=[self], \n",
    "                          creation_op = \"transpose\")\n",
    "        return Tensor_V5(self.data.transpose())\n",
    "    \n",
    "    def mm(self, x): \n",
    "        if(self.autograd):\n",
    "            return Tensor_V5(self.data.dot(x.data), \n",
    "                          autograd=True,\n",
    "                          creators=[self,x],\n",
    "                          creation_op=\"mm\") \n",
    "        return Tensor_V5(self.data.dot(x.data))\n",
    "\n",
    "    def __repr__(self):                \n",
    "        \"\"\"__repr__ method\n",
    "        Returns the object representation in string format.\n",
    "        Returns an “official” string representation of the object,\n",
    "        which can be used to construct th eobject again.\n",
    "        \"\"\"\n",
    "        return str(self.data.__repr__())\n",
    "    \n",
    "    def __str__(self):\n",
    "        \"\"\"\n",
    "        Returns the string representation of the object. This method is called \n",
    "        when print() or str() function is invoked on an object. Returns a\n",
    "        human-readable format.\n",
    "        \"\"\"\n",
    "        return str(self.data.__str__())\n",
    "\n",
    "    def tanh(self): \n",
    "        if(self.autograd):\n",
    "            return Tensor_V5(np.tanh(self.data), \n",
    "                          autograd=True,\n",
    "                          creators=[self],\n",
    "                          creation_op=\"tanh\") \n",
    "        return Tensor_V5(np.tanh(self.data))\n",
    "\n",
    "    def sigmoid(self): \n",
    "        if(self.autograd):\n",
    "            return Tensor_V5(1 / (1 + np.exp(-self.data)), \n",
    "                               autograd=True,\n",
    "                                creators=[self], \n",
    "                                creation_op=\"sigmoid\")\n",
    "        return Tensor_V51 / (1 + np.exp(-self.data)) "
   ]
  },
  {
   "cell_type": "code",
   "execution_count": 130,
   "metadata": {},
   "outputs": [],
   "source": [
    "class Tanh(Layer):\n",
    "    def __init__(self):\n",
    "        super().__init__()\n",
    "    def forward(self, input):\n",
    "        # test\n",
    "        return input.tanh()"
   ]
  },
  {
   "cell_type": "code",
   "execution_count": 131,
   "metadata": {},
   "outputs": [],
   "source": [
    "class Sigmoid(Layer): \n",
    "    def __init__(self):\n",
    "        super().__init__()\n",
    "    def forward(self, input): \n",
    "        return input.sigmoid()"
   ]
  },
  {
   "cell_type": "markdown",
   "metadata": {},
   "source": [
    "\n",
    "- Let's now revisit the code we wrote before.\n",
    "- The framework created above allows you to drop the `Tanh()` and `Sigmoid()` layers into the input parameters to Sequential(), and the neural network knows exactly how to use them.\n",
    "- That allows you to write in a neaty way each layer.\n",
    "\n",
""   ]
  },
  {
   "cell_type": "code",
   "execution_count": 132,
   "metadata": {},
   "outputs": [],
   "source": [
    "np.random.seed(0)\n",
    "data = Tensor_V5(np.array([[0,0],[0,1],[1,0],[1,1]]), autograd=True) \n",
    "target = Tensor_V5(np.array([[0],[1],[0],[1]]), autograd=True)"
   ]
  },
  {
   "cell_type": "code",
   "execution_count": 133,
   "metadata": {},
   "outputs": [],
   "source": [
    "model = Sequential([Linear(2,3), Tanh(), Linear(3,1), Sigmoid()]) \n",
    "criterion = MSELoss()"
   ]
  },
  {
   "cell_type": "code",
   "execution_count": 134,
   "metadata": {},
   "outputs": [
    {
     "name": "stdout",
     "output_type": "stream",
     "text": [
      "[1.06372865]\n",
      "[0.75148144]\n",
      "[0.57384259]\n",
      "[0.39574294]\n",
      "[0.2482279]\n",
      "[0.15515294]\n",
      "[0.10423398]\n",
      "[0.07571169]\n",
      "[0.05837623]\n",
      "[0.04700013]\n"
     ]
    }
   ],
   "source": [
    "optim = SGD(parameters=model.get_parameters(), alpha=1)\n",
    "for i in range(10):\n",
    "    # Predict\n",
    "    pred = model.forward(data)\n",
    "    # Compare\n",
    "    loss = criterion.forward(pred, target)\n",
    "    # Learn\n",
    "    loss.backward(Tensor_V5(np.ones_like(loss.data))) \n",
    "    optim.step()\n",
    "    print(loss)"
   ]
  },
  {
   "cell_type": "markdown",
   "metadata": {},
   "source": [
    "# References"
   ]
  },
  {
   "cell_type": "markdown",
   "metadata": {},
   "source": [
    "\n",
    "- Grokking deep learning, Andrew W. Task \n",
    "- [Code available in this GitHub repository](https://github.com/iamtrask/Grokking-Deep-Learning)\n",
    "- [Available on Google books](https://books.google.co.uk/books?hl=en&lr=&id=0zczEAAAQBAJ&oi=fnd&pg=PT25&dq=Grokking-Deep-Learning&ots=-kAj0RlLxI&sig=P2qD8ZSvOYc6k9yttDfebqbgnec#v=onepage&q=Grokking-Deep-Learning&f=false)\n",
    "- [Difference btw str and repr](https://www.journaldev.com/22460/python-str-repr-functions)\n",
    "\n",
""   ]
  },
  {
   "cell_type": "markdown",
   "metadata": {},
   "source": [
    "# Conclusions"
   ]
  },
  {
   "cell_type": "markdown",
   "metadata": {},
   "source": [
    "\n",
    "- We have seen how building a framework is all about abstracting to the bare minimum. \n",
    "- One of the thing we need to be careful about was the updating process as it easy to debug it if something is not quite right.\n",
    "\n",
""   ]
  },
  {
   "cell_type": "code",
   "execution_count": null,
   "metadata": {},
   "outputs": [],
   "source": []
  }
 ],
 "metadata": {
  "hide_input": false,
  "kernelspec": {
   "display_name": "trainingAI",
   "language": "python",
   "name": "trainingai"
  },
  "language_info": {
   "codemirror_mode": {
    "name": "ipython",
    "version": 3
   },
   "file_extension": ".py",
   "mimetype": "text/x-python",
   "name": "python",
   "nbconvert_exporter": "python",
   "pygments_lexer": "ipython3",
   "version": "3.8.5"
  }
 },
 "nbformat": 4,
 "nbformat_minor": 2
}
